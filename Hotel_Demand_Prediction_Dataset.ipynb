{
  "nbformat": 4,
  "nbformat_minor": 0,
  "metadata": {
    "kernelspec": {
      "display_name": "Python 3",
      "language": "python",
      "name": "python3"
    },
    "language_info": {
      "codemirror_mode": {
        "name": "ipython",
        "version": 3
      },
      "file_extension": ".py",
      "mimetype": "text/x-python",
      "name": "python",
      "nbconvert_exporter": "python",
      "pygments_lexer": "ipython3",
      "version": "3.8.5"
    },
    "colab": {
      "name": "Hotel Demand Prediction Dataset.ipynb",
      "provenance": [],
      "collapsed_sections": [
        "TqH22QY4Wv60"
      ]
    }
  },
  "cells": [
    {
      "cell_type": "markdown",
      "metadata": {
        "id": "opy3TRhCWv6b"
      },
      "source": [
        "# Importing Libraries"
      ]
    },
    {
      "cell_type": "code",
      "metadata": {
        "id": "aZO0CrQZWv6f"
      },
      "source": [
        "import numpy as np\n",
        "import pandas as pd\n",
        "import matplotlib.pyplot as plt\n",
        "import seaborn as sns\n",
        "from sklearn.impute import SimpleImputer\n",
        "from sklearn.feature_selection import VarianceThreshold\n",
        "from sklearn.preprocessing import KBinsDiscretizer\n",
        "from numpy import mean\n",
        "from sklearn.feature_selection import SelectKBest, chi2\n",
        "from sklearn.model_selection import train_test_split\n",
        "from sklearn.tree import DecisionTreeClassifier\n",
        "from sklearn.model_selection import GridSearchCV\n",
        "from sklearn.ensemble import RandomForestClassifier\n",
        "from sklearn.ensemble import GradientBoostingClassifier\n",
        "from sklearn import metrics\n",
        "from sklearn.metrics import confusion_matrix"
      ],
      "execution_count": 1,
      "outputs": []
    },
    {
      "cell_type": "markdown",
      "metadata": {
        "id": "EZF-ADuXWv6h"
      },
      "source": [
        "# Importing the Data for ML Project"
      ]
    },
    {
      "cell_type": "code",
      "metadata": {
        "id": "HTOW_jeLYsPF"
      },
      "source": [
        "url = 'https://raw.githubusercontent.com/BhargavArunkumar/Hotel_Demand_Prediction/main/DataSet/hotel_bookings.csv'"
      ],
      "execution_count": 2,
      "outputs": []
    },
    {
      "cell_type": "code",
      "metadata": {
        "id": "G1OL1mXlWv6i"
      },
      "source": [
        "df = pd.read_csv(url, header=0)"
      ],
      "execution_count": 3,
      "outputs": []
    },
    {
      "cell_type": "code",
      "metadata": {
        "colab": {
          "base_uri": "https://localhost:8080/"
        },
        "id": "VLuGoQPiWv6j",
        "outputId": "a645c3e9-7e3b-498b-d48e-a47b24a62c5e"
      },
      "source": [
        "df.shape"
      ],
      "execution_count": 4,
      "outputs": [
        {
          "output_type": "execute_result",
          "data": {
            "text/plain": [
              "(119390, 33)"
            ]
          },
          "metadata": {},
          "execution_count": 4
        }
      ]
    },
    {
      "cell_type": "code",
      "metadata": {
        "scrolled": true,
        "colab": {
          "base_uri": "https://localhost:8080/",
          "height": 305
        },
        "id": "PFj1lS_hWv6k",
        "outputId": "a59330db-015d-4118-d95d-8b73a0d2f3dc"
      },
      "source": [
        "df.head()"
      ],
      "execution_count": 5,
      "outputs": [
        {
          "output_type": "execute_result",
          "data": {
            "text/html": [
              "<div>\n",
              "<style scoped>\n",
              "    .dataframe tbody tr th:only-of-type {\n",
              "        vertical-align: middle;\n",
              "    }\n",
              "\n",
              "    .dataframe tbody tr th {\n",
              "        vertical-align: top;\n",
              "    }\n",
              "\n",
              "    .dataframe thead th {\n",
              "        text-align: right;\n",
              "    }\n",
              "</style>\n",
              "<table border=\"1\" class=\"dataframe\">\n",
              "  <thead>\n",
              "    <tr style=\"text-align: right;\">\n",
              "      <th></th>\n",
              "      <th>hotel</th>\n",
              "      <th>is_canceled</th>\n",
              "      <th>lead_time</th>\n",
              "      <th>arrival_month_year</th>\n",
              "      <th>arrival_date_year</th>\n",
              "      <th>arrival_date_month</th>\n",
              "      <th>arrival_date_week_number</th>\n",
              "      <th>arrival_date_day_of_month</th>\n",
              "      <th>stays_in_weekend_nights</th>\n",
              "      <th>stays_in_week_nights</th>\n",
              "      <th>adults</th>\n",
              "      <th>children</th>\n",
              "      <th>babies</th>\n",
              "      <th>meal</th>\n",
              "      <th>country</th>\n",
              "      <th>market_segment</th>\n",
              "      <th>distribution_channel</th>\n",
              "      <th>is_repeated_guest</th>\n",
              "      <th>previous_cancellations</th>\n",
              "      <th>previous_bookings_not_canceled</th>\n",
              "      <th>reserved_room_type</th>\n",
              "      <th>assigned_room_type</th>\n",
              "      <th>booking_changes</th>\n",
              "      <th>deposit_type</th>\n",
              "      <th>agent</th>\n",
              "      <th>company</th>\n",
              "      <th>days_in_waiting_list</th>\n",
              "      <th>customer_type</th>\n",
              "      <th>adr</th>\n",
              "      <th>required_car_parking_spaces</th>\n",
              "      <th>total_of_special_requests</th>\n",
              "      <th>reservation_status</th>\n",
              "      <th>reservation_status_date</th>\n",
              "    </tr>\n",
              "  </thead>\n",
              "  <tbody>\n",
              "    <tr>\n",
              "      <th>0</th>\n",
              "      <td>Resort Hotel</td>\n",
              "      <td>0</td>\n",
              "      <td>342</td>\n",
              "      <td>July 2015</td>\n",
              "      <td>2015</td>\n",
              "      <td>July</td>\n",
              "      <td>27</td>\n",
              "      <td>1</td>\n",
              "      <td>0</td>\n",
              "      <td>0</td>\n",
              "      <td>2</td>\n",
              "      <td>0.0</td>\n",
              "      <td>0</td>\n",
              "      <td>BB</td>\n",
              "      <td>PRT</td>\n",
              "      <td>Direct</td>\n",
              "      <td>Direct</td>\n",
              "      <td>0</td>\n",
              "      <td>0</td>\n",
              "      <td>0</td>\n",
              "      <td>C</td>\n",
              "      <td>C</td>\n",
              "      <td>3</td>\n",
              "      <td>No Deposit</td>\n",
              "      <td>NaN</td>\n",
              "      <td>NaN</td>\n",
              "      <td>0</td>\n",
              "      <td>Transient</td>\n",
              "      <td>0.0</td>\n",
              "      <td>0</td>\n",
              "      <td>0</td>\n",
              "      <td>Check-Out</td>\n",
              "      <td>01-07-2015</td>\n",
              "    </tr>\n",
              "    <tr>\n",
              "      <th>1</th>\n",
              "      <td>Resort Hotel</td>\n",
              "      <td>0</td>\n",
              "      <td>737</td>\n",
              "      <td>July 2015</td>\n",
              "      <td>2015</td>\n",
              "      <td>July</td>\n",
              "      <td>27</td>\n",
              "      <td>1</td>\n",
              "      <td>0</td>\n",
              "      <td>0</td>\n",
              "      <td>2</td>\n",
              "      <td>0.0</td>\n",
              "      <td>0</td>\n",
              "      <td>BB</td>\n",
              "      <td>PRT</td>\n",
              "      <td>Direct</td>\n",
              "      <td>Direct</td>\n",
              "      <td>0</td>\n",
              "      <td>0</td>\n",
              "      <td>0</td>\n",
              "      <td>C</td>\n",
              "      <td>C</td>\n",
              "      <td>4</td>\n",
              "      <td>No Deposit</td>\n",
              "      <td>NaN</td>\n",
              "      <td>NaN</td>\n",
              "      <td>0</td>\n",
              "      <td>Transient</td>\n",
              "      <td>0.0</td>\n",
              "      <td>0</td>\n",
              "      <td>0</td>\n",
              "      <td>Check-Out</td>\n",
              "      <td>01-07-2015</td>\n",
              "    </tr>\n",
              "    <tr>\n",
              "      <th>2</th>\n",
              "      <td>Resort Hotel</td>\n",
              "      <td>0</td>\n",
              "      <td>7</td>\n",
              "      <td>July 2015</td>\n",
              "      <td>2015</td>\n",
              "      <td>July</td>\n",
              "      <td>27</td>\n",
              "      <td>1</td>\n",
              "      <td>0</td>\n",
              "      <td>1</td>\n",
              "      <td>1</td>\n",
              "      <td>0.0</td>\n",
              "      <td>0</td>\n",
              "      <td>BB</td>\n",
              "      <td>GBR</td>\n",
              "      <td>Direct</td>\n",
              "      <td>Direct</td>\n",
              "      <td>0</td>\n",
              "      <td>0</td>\n",
              "      <td>0</td>\n",
              "      <td>A</td>\n",
              "      <td>C</td>\n",
              "      <td>0</td>\n",
              "      <td>No Deposit</td>\n",
              "      <td>NaN</td>\n",
              "      <td>NaN</td>\n",
              "      <td>0</td>\n",
              "      <td>Transient</td>\n",
              "      <td>75.0</td>\n",
              "      <td>0</td>\n",
              "      <td>0</td>\n",
              "      <td>Check-Out</td>\n",
              "      <td>02-07-2015</td>\n",
              "    </tr>\n",
              "    <tr>\n",
              "      <th>3</th>\n",
              "      <td>Resort Hotel</td>\n",
              "      <td>0</td>\n",
              "      <td>13</td>\n",
              "      <td>July 2015</td>\n",
              "      <td>2015</td>\n",
              "      <td>July</td>\n",
              "      <td>27</td>\n",
              "      <td>1</td>\n",
              "      <td>0</td>\n",
              "      <td>1</td>\n",
              "      <td>1</td>\n",
              "      <td>0.0</td>\n",
              "      <td>0</td>\n",
              "      <td>BB</td>\n",
              "      <td>GBR</td>\n",
              "      <td>Corporate</td>\n",
              "      <td>Corporate</td>\n",
              "      <td>0</td>\n",
              "      <td>0</td>\n",
              "      <td>0</td>\n",
              "      <td>A</td>\n",
              "      <td>A</td>\n",
              "      <td>0</td>\n",
              "      <td>No Deposit</td>\n",
              "      <td>304.0</td>\n",
              "      <td>NaN</td>\n",
              "      <td>0</td>\n",
              "      <td>Transient</td>\n",
              "      <td>75.0</td>\n",
              "      <td>0</td>\n",
              "      <td>0</td>\n",
              "      <td>Check-Out</td>\n",
              "      <td>02-07-2015</td>\n",
              "    </tr>\n",
              "    <tr>\n",
              "      <th>4</th>\n",
              "      <td>Resort Hotel</td>\n",
              "      <td>0</td>\n",
              "      <td>14</td>\n",
              "      <td>July 2015</td>\n",
              "      <td>2015</td>\n",
              "      <td>July</td>\n",
              "      <td>27</td>\n",
              "      <td>1</td>\n",
              "      <td>0</td>\n",
              "      <td>2</td>\n",
              "      <td>2</td>\n",
              "      <td>0.0</td>\n",
              "      <td>0</td>\n",
              "      <td>BB</td>\n",
              "      <td>GBR</td>\n",
              "      <td>Online TA</td>\n",
              "      <td>TA/TO</td>\n",
              "      <td>0</td>\n",
              "      <td>0</td>\n",
              "      <td>0</td>\n",
              "      <td>A</td>\n",
              "      <td>A</td>\n",
              "      <td>0</td>\n",
              "      <td>No Deposit</td>\n",
              "      <td>240.0</td>\n",
              "      <td>NaN</td>\n",
              "      <td>0</td>\n",
              "      <td>Transient</td>\n",
              "      <td>98.0</td>\n",
              "      <td>0</td>\n",
              "      <td>1</td>\n",
              "      <td>Check-Out</td>\n",
              "      <td>03-07-2015</td>\n",
              "    </tr>\n",
              "  </tbody>\n",
              "</table>\n",
              "</div>"
            ],
            "text/plain": [
              "          hotel  is_canceled  ...  reservation_status reservation_status_date\n",
              "0  Resort Hotel            0  ...           Check-Out              01-07-2015\n",
              "1  Resort Hotel            0  ...           Check-Out              01-07-2015\n",
              "2  Resort Hotel            0  ...           Check-Out              02-07-2015\n",
              "3  Resort Hotel            0  ...           Check-Out              02-07-2015\n",
              "4  Resort Hotel            0  ...           Check-Out              03-07-2015\n",
              "\n",
              "[5 rows x 33 columns]"
            ]
          },
          "metadata": {},
          "execution_count": 5
        }
      ]
    },
    {
      "cell_type": "code",
      "metadata": {
        "colab": {
          "base_uri": "https://localhost:8080/"
        },
        "id": "wKKIyzvUWv6k",
        "outputId": "be51a85f-7604-4c39-b531-5a2bb2a3df9c"
      },
      "source": [
        "df.dtypes"
      ],
      "execution_count": 6,
      "outputs": [
        {
          "output_type": "execute_result",
          "data": {
            "text/plain": [
              "hotel                              object\n",
              "is_canceled                         int64\n",
              "lead_time                           int64\n",
              "arrival_month_year                 object\n",
              "arrival_date_year                   int64\n",
              "arrival_date_month                 object\n",
              "arrival_date_week_number            int64\n",
              "arrival_date_day_of_month           int64\n",
              "stays_in_weekend_nights             int64\n",
              "stays_in_week_nights                int64\n",
              "adults                              int64\n",
              "children                          float64\n",
              "babies                              int64\n",
              "meal                               object\n",
              "country                            object\n",
              "market_segment                     object\n",
              "distribution_channel               object\n",
              "is_repeated_guest                   int64\n",
              "previous_cancellations              int64\n",
              "previous_bookings_not_canceled      int64\n",
              "reserved_room_type                 object\n",
              "assigned_room_type                 object\n",
              "booking_changes                     int64\n",
              "deposit_type                       object\n",
              "agent                             float64\n",
              "company                           float64\n",
              "days_in_waiting_list                int64\n",
              "customer_type                      object\n",
              "adr                               float64\n",
              "required_car_parking_spaces         int64\n",
              "total_of_special_requests           int64\n",
              "reservation_status                 object\n",
              "reservation_status_date            object\n",
              "dtype: object"
            ]
          },
          "metadata": {},
          "execution_count": 6
        }
      ]
    },
    {
      "cell_type": "markdown",
      "metadata": {
        "id": "pksoLgTvWv6l"
      },
      "source": [
        "# Setting Display options to ensure feature name visibility"
      ]
    },
    {
      "cell_type": "code",
      "metadata": {
        "id": "EXJH8ImOWv6m"
      },
      "source": [
        "pd.set_option('display.max_columns',None)"
      ],
      "execution_count": 7,
      "outputs": []
    },
    {
      "cell_type": "markdown",
      "metadata": {
        "id": "AI_HcUGOWv6n"
      },
      "source": [
        "# Warning Suppression "
      ]
    },
    {
      "cell_type": "code",
      "metadata": {
        "id": "NvgDdZ2IWv6o"
      },
      "source": [
        "import warnings\n",
        "warnings.filterwarnings('ignore')"
      ],
      "execution_count": 8,
      "outputs": []
    },
    {
      "cell_type": "markdown",
      "metadata": {
        "id": "YDyyHhb8Wv6p"
      },
      "source": [
        "# Drop ID Feature from the dataset"
      ]
    },
    {
      "cell_type": "code",
      "metadata": {
        "id": "LcKvlms6Wv6p"
      },
      "source": [
        "# No ID is mentioned so we don't perform the drop step"
      ],
      "execution_count": 9,
      "outputs": []
    },
    {
      "cell_type": "markdown",
      "metadata": {
        "id": "uLiEYg0PWv6q"
      },
      "source": [
        "# Defining Target and Independent Features"
      ]
    },
    {
      "cell_type": "code",
      "metadata": {
        "id": "sBsmt-fEWv6q"
      },
      "source": [
        "Y=df[['is_canceled']]\n",
        "X=df.drop(['is_canceled'],axis=1)"
      ],
      "execution_count": 10,
      "outputs": []
    },
    {
      "cell_type": "markdown",
      "metadata": {
        "id": "MOi-Bf7pWv6q"
      },
      "source": [
        "# Get the Response Rate"
      ]
    },
    {
      "cell_type": "code",
      "metadata": {
        "colab": {
          "base_uri": "https://localhost:8080/"
        },
        "id": "pUpmBhQgWv6r",
        "outputId": "9fbd98cb-d564-4b71-db3f-8784cfc4f5f4"
      },
      "source": [
        "Y.mean()"
      ],
      "execution_count": 11,
      "outputs": [
        {
          "output_type": "execute_result",
          "data": {
            "text/plain": [
              "is_canceled    0.370416\n",
              "dtype: float64"
            ]
          },
          "metadata": {},
          "execution_count": 11
        }
      ]
    },
    {
      "cell_type": "markdown",
      "metadata": {
        "id": "U3y6GofjWv6r"
      },
      "source": [
        "# Split features into Numerical and Categorical"
      ]
    },
    {
      "cell_type": "code",
      "metadata": {
        "id": "SBOjWsXfWv6s"
      },
      "source": [
        "num=X.select_dtypes(include=\"number\")\n",
        "char=X.select_dtypes(include=\"object\")"
      ],
      "execution_count": 12,
      "outputs": []
    },
    {
      "cell_type": "code",
      "metadata": {
        "id": "EiWMrtMEWv6s"
      },
      "source": [
        "def unique_levels(x):\n",
        "    x=x.value_counts().count()\n",
        "    return(x)\n",
        "df_value_counts=pd.DataFrame(num.apply(lambda x : unique_levels(x)))"
      ],
      "execution_count": 13,
      "outputs": []
    },
    {
      "cell_type": "code",
      "metadata": {
        "scrolled": true,
        "colab": {
          "base_uri": "https://localhost:8080/",
          "height": 202
        },
        "id": "TEic7-r-Wv6s",
        "outputId": "265c239c-2b80-4972-8290-a3a970cced12"
      },
      "source": [
        "df_value_counts.columns=['feature_levels']\n",
        "df_value_counts.head()"
      ],
      "execution_count": 14,
      "outputs": [
        {
          "output_type": "execute_result",
          "data": {
            "text/html": [
              "<div>\n",
              "<style scoped>\n",
              "    .dataframe tbody tr th:only-of-type {\n",
              "        vertical-align: middle;\n",
              "    }\n",
              "\n",
              "    .dataframe tbody tr th {\n",
              "        vertical-align: top;\n",
              "    }\n",
              "\n",
              "    .dataframe thead th {\n",
              "        text-align: right;\n",
              "    }\n",
              "</style>\n",
              "<table border=\"1\" class=\"dataframe\">\n",
              "  <thead>\n",
              "    <tr style=\"text-align: right;\">\n",
              "      <th></th>\n",
              "      <th>feature_levels</th>\n",
              "    </tr>\n",
              "  </thead>\n",
              "  <tbody>\n",
              "    <tr>\n",
              "      <th>lead_time</th>\n",
              "      <td>479</td>\n",
              "    </tr>\n",
              "    <tr>\n",
              "      <th>arrival_date_year</th>\n",
              "      <td>3</td>\n",
              "    </tr>\n",
              "    <tr>\n",
              "      <th>arrival_date_week_number</th>\n",
              "      <td>53</td>\n",
              "    </tr>\n",
              "    <tr>\n",
              "      <th>arrival_date_day_of_month</th>\n",
              "      <td>31</td>\n",
              "    </tr>\n",
              "    <tr>\n",
              "      <th>stays_in_weekend_nights</th>\n",
              "      <td>17</td>\n",
              "    </tr>\n",
              "  </tbody>\n",
              "</table>\n",
              "</div>"
            ],
            "text/plain": [
              "                           feature_levels\n",
              "lead_time                             479\n",
              "arrival_date_year                       3\n",
              "arrival_date_week_number               53\n",
              "arrival_date_day_of_month              31\n",
              "stays_in_weekend_nights                17"
            ]
          },
          "metadata": {},
          "execution_count": 14
        }
      ]
    },
    {
      "cell_type": "code",
      "metadata": {
        "colab": {
          "base_uri": "https://localhost:8080/"
        },
        "id": "Ch4hUee0Wv6t",
        "outputId": "e0d37d79-a5d1-4125-d4e5-165efbeb4daf"
      },
      "source": [
        "slice1=df_value_counts.loc[df_value_counts['feature_levels']<=20]\n",
        "cat_list=slice1.index\n",
        "cat=num.loc[:,cat_list]\n",
        "cat.dtypes"
      ],
      "execution_count": 15,
      "outputs": [
        {
          "output_type": "execute_result",
          "data": {
            "text/plain": [
              "arrival_date_year                int64\n",
              "stays_in_weekend_nights          int64\n",
              "adults                           int64\n",
              "children                       float64\n",
              "babies                           int64\n",
              "is_repeated_guest                int64\n",
              "previous_cancellations           int64\n",
              "required_car_parking_spaces      int64\n",
              "total_of_special_requests        int64\n",
              "dtype: object"
            ]
          },
          "metadata": {},
          "execution_count": 15
        }
      ]
    },
    {
      "cell_type": "code",
      "metadata": {
        "id": "iaP_zSbfWv6t"
      },
      "source": [
        "slice2=df_value_counts.loc[df_value_counts['feature_levels']>20]\n",
        "num_list=slice2.index\n",
        "num=num.loc[:,num_list]"
      ],
      "execution_count": 16,
      "outputs": []
    },
    {
      "cell_type": "code",
      "metadata": {
        "colab": {
          "base_uri": "https://localhost:8080/"
        },
        "id": "478e96sUWv6u",
        "outputId": "6caeac4c-2554-45f8-81b8-efadf4f7b514"
      },
      "source": [
        "num.dtypes"
      ],
      "execution_count": 17,
      "outputs": [
        {
          "output_type": "execute_result",
          "data": {
            "text/plain": [
              "lead_time                           int64\n",
              "arrival_date_week_number            int64\n",
              "arrival_date_day_of_month           int64\n",
              "stays_in_week_nights                int64\n",
              "previous_bookings_not_canceled      int64\n",
              "booking_changes                     int64\n",
              "agent                             float64\n",
              "company                           float64\n",
              "days_in_waiting_list                int64\n",
              "adr                               float64\n",
              "dtype: object"
            ]
          },
          "metadata": {},
          "execution_count": 17
        }
      ]
    },
    {
      "cell_type": "code",
      "metadata": {
        "colab": {
          "base_uri": "https://localhost:8080/"
        },
        "id": "gbOPtGksWv6u",
        "outputId": "8c1f309d-61ec-40d4-8976-abec10e99d77"
      },
      "source": [
        "num.shape"
      ],
      "execution_count": 18,
      "outputs": [
        {
          "output_type": "execute_result",
          "data": {
            "text/plain": [
              "(119390, 10)"
            ]
          },
          "metadata": {},
          "execution_count": 18
        }
      ]
    },
    {
      "cell_type": "code",
      "metadata": {
        "id": "0sn8P312Wv6u"
      },
      "source": [
        "char=pd.concat([char,cat],axis=1,join=\"inner\")"
      ],
      "execution_count": 19,
      "outputs": []
    },
    {
      "cell_type": "code",
      "metadata": {
        "colab": {
          "base_uri": "https://localhost:8080/",
          "height": 305
        },
        "id": "y_cKXZlTWv6v",
        "outputId": "1f48e1ca-9c6f-45da-8668-089d10271a66"
      },
      "source": [
        "char.head()"
      ],
      "execution_count": 20,
      "outputs": [
        {
          "output_type": "execute_result",
          "data": {
            "text/html": [
              "<div>\n",
              "<style scoped>\n",
              "    .dataframe tbody tr th:only-of-type {\n",
              "        vertical-align: middle;\n",
              "    }\n",
              "\n",
              "    .dataframe tbody tr th {\n",
              "        vertical-align: top;\n",
              "    }\n",
              "\n",
              "    .dataframe thead th {\n",
              "        text-align: right;\n",
              "    }\n",
              "</style>\n",
              "<table border=\"1\" class=\"dataframe\">\n",
              "  <thead>\n",
              "    <tr style=\"text-align: right;\">\n",
              "      <th></th>\n",
              "      <th>hotel</th>\n",
              "      <th>arrival_month_year</th>\n",
              "      <th>arrival_date_month</th>\n",
              "      <th>meal</th>\n",
              "      <th>country</th>\n",
              "      <th>market_segment</th>\n",
              "      <th>distribution_channel</th>\n",
              "      <th>reserved_room_type</th>\n",
              "      <th>assigned_room_type</th>\n",
              "      <th>deposit_type</th>\n",
              "      <th>customer_type</th>\n",
              "      <th>reservation_status</th>\n",
              "      <th>reservation_status_date</th>\n",
              "      <th>arrival_date_year</th>\n",
              "      <th>stays_in_weekend_nights</th>\n",
              "      <th>adults</th>\n",
              "      <th>children</th>\n",
              "      <th>babies</th>\n",
              "      <th>is_repeated_guest</th>\n",
              "      <th>previous_cancellations</th>\n",
              "      <th>required_car_parking_spaces</th>\n",
              "      <th>total_of_special_requests</th>\n",
              "    </tr>\n",
              "  </thead>\n",
              "  <tbody>\n",
              "    <tr>\n",
              "      <th>0</th>\n",
              "      <td>Resort Hotel</td>\n",
              "      <td>July 2015</td>\n",
              "      <td>July</td>\n",
              "      <td>BB</td>\n",
              "      <td>PRT</td>\n",
              "      <td>Direct</td>\n",
              "      <td>Direct</td>\n",
              "      <td>C</td>\n",
              "      <td>C</td>\n",
              "      <td>No Deposit</td>\n",
              "      <td>Transient</td>\n",
              "      <td>Check-Out</td>\n",
              "      <td>01-07-2015</td>\n",
              "      <td>2015</td>\n",
              "      <td>0</td>\n",
              "      <td>2</td>\n",
              "      <td>0.0</td>\n",
              "      <td>0</td>\n",
              "      <td>0</td>\n",
              "      <td>0</td>\n",
              "      <td>0</td>\n",
              "      <td>0</td>\n",
              "    </tr>\n",
              "    <tr>\n",
              "      <th>1</th>\n",
              "      <td>Resort Hotel</td>\n",
              "      <td>July 2015</td>\n",
              "      <td>July</td>\n",
              "      <td>BB</td>\n",
              "      <td>PRT</td>\n",
              "      <td>Direct</td>\n",
              "      <td>Direct</td>\n",
              "      <td>C</td>\n",
              "      <td>C</td>\n",
              "      <td>No Deposit</td>\n",
              "      <td>Transient</td>\n",
              "      <td>Check-Out</td>\n",
              "      <td>01-07-2015</td>\n",
              "      <td>2015</td>\n",
              "      <td>0</td>\n",
              "      <td>2</td>\n",
              "      <td>0.0</td>\n",
              "      <td>0</td>\n",
              "      <td>0</td>\n",
              "      <td>0</td>\n",
              "      <td>0</td>\n",
              "      <td>0</td>\n",
              "    </tr>\n",
              "    <tr>\n",
              "      <th>2</th>\n",
              "      <td>Resort Hotel</td>\n",
              "      <td>July 2015</td>\n",
              "      <td>July</td>\n",
              "      <td>BB</td>\n",
              "      <td>GBR</td>\n",
              "      <td>Direct</td>\n",
              "      <td>Direct</td>\n",
              "      <td>A</td>\n",
              "      <td>C</td>\n",
              "      <td>No Deposit</td>\n",
              "      <td>Transient</td>\n",
              "      <td>Check-Out</td>\n",
              "      <td>02-07-2015</td>\n",
              "      <td>2015</td>\n",
              "      <td>0</td>\n",
              "      <td>1</td>\n",
              "      <td>0.0</td>\n",
              "      <td>0</td>\n",
              "      <td>0</td>\n",
              "      <td>0</td>\n",
              "      <td>0</td>\n",
              "      <td>0</td>\n",
              "    </tr>\n",
              "    <tr>\n",
              "      <th>3</th>\n",
              "      <td>Resort Hotel</td>\n",
              "      <td>July 2015</td>\n",
              "      <td>July</td>\n",
              "      <td>BB</td>\n",
              "      <td>GBR</td>\n",
              "      <td>Corporate</td>\n",
              "      <td>Corporate</td>\n",
              "      <td>A</td>\n",
              "      <td>A</td>\n",
              "      <td>No Deposit</td>\n",
              "      <td>Transient</td>\n",
              "      <td>Check-Out</td>\n",
              "      <td>02-07-2015</td>\n",
              "      <td>2015</td>\n",
              "      <td>0</td>\n",
              "      <td>1</td>\n",
              "      <td>0.0</td>\n",
              "      <td>0</td>\n",
              "      <td>0</td>\n",
              "      <td>0</td>\n",
              "      <td>0</td>\n",
              "      <td>0</td>\n",
              "    </tr>\n",
              "    <tr>\n",
              "      <th>4</th>\n",
              "      <td>Resort Hotel</td>\n",
              "      <td>July 2015</td>\n",
              "      <td>July</td>\n",
              "      <td>BB</td>\n",
              "      <td>GBR</td>\n",
              "      <td>Online TA</td>\n",
              "      <td>TA/TO</td>\n",
              "      <td>A</td>\n",
              "      <td>A</td>\n",
              "      <td>No Deposit</td>\n",
              "      <td>Transient</td>\n",
              "      <td>Check-Out</td>\n",
              "      <td>03-07-2015</td>\n",
              "      <td>2015</td>\n",
              "      <td>0</td>\n",
              "      <td>2</td>\n",
              "      <td>0.0</td>\n",
              "      <td>0</td>\n",
              "      <td>0</td>\n",
              "      <td>0</td>\n",
              "      <td>0</td>\n",
              "      <td>1</td>\n",
              "    </tr>\n",
              "  </tbody>\n",
              "</table>\n",
              "</div>"
            ],
            "text/plain": [
              "          hotel arrival_month_year arrival_date_month meal country  \\\n",
              "0  Resort Hotel          July 2015               July   BB     PRT   \n",
              "1  Resort Hotel          July 2015               July   BB     PRT   \n",
              "2  Resort Hotel          July 2015               July   BB     GBR   \n",
              "3  Resort Hotel          July 2015               July   BB     GBR   \n",
              "4  Resort Hotel          July 2015               July   BB     GBR   \n",
              "\n",
              "  market_segment distribution_channel reserved_room_type assigned_room_type  \\\n",
              "0         Direct               Direct                  C                  C   \n",
              "1         Direct               Direct                  C                  C   \n",
              "2         Direct               Direct                  A                  C   \n",
              "3      Corporate            Corporate                  A                  A   \n",
              "4      Online TA                TA/TO                  A                  A   \n",
              "\n",
              "  deposit_type customer_type reservation_status reservation_status_date  \\\n",
              "0   No Deposit     Transient          Check-Out              01-07-2015   \n",
              "1   No Deposit     Transient          Check-Out              01-07-2015   \n",
              "2   No Deposit     Transient          Check-Out              02-07-2015   \n",
              "3   No Deposit     Transient          Check-Out              02-07-2015   \n",
              "4   No Deposit     Transient          Check-Out              03-07-2015   \n",
              "\n",
              "   arrival_date_year  stays_in_weekend_nights  adults  children  babies  \\\n",
              "0               2015                        0       2       0.0       0   \n",
              "1               2015                        0       2       0.0       0   \n",
              "2               2015                        0       1       0.0       0   \n",
              "3               2015                        0       1       0.0       0   \n",
              "4               2015                        0       2       0.0       0   \n",
              "\n",
              "   is_repeated_guest  previous_cancellations  required_car_parking_spaces  \\\n",
              "0                  0                       0                            0   \n",
              "1                  0                       0                            0   \n",
              "2                  0                       0                            0   \n",
              "3                  0                       0                            0   \n",
              "4                  0                       0                            0   \n",
              "\n",
              "   total_of_special_requests  \n",
              "0                          0  \n",
              "1                          0  \n",
              "2                          0  \n",
              "3                          0  \n",
              "4                          1  "
            ]
          },
          "metadata": {},
          "execution_count": 20
        }
      ]
    },
    {
      "cell_type": "markdown",
      "metadata": {
        "id": "kCVInuREWv6v"
      },
      "source": [
        "# Outlier Analysis of Numerical Features"
      ]
    },
    {
      "cell_type": "code",
      "metadata": {
        "scrolled": false,
        "colab": {
          "base_uri": "https://localhost:8080/",
          "height": 508
        },
        "id": "2elsIMEWWv6v",
        "outputId": "3f50e010-7698-43e6-e7f0-7ee1e7a41e1d"
      },
      "source": [
        "num.describe(percentiles=[0.01,0.05,0.10,0.25,0.50,0.75,0.85,0.88,0.9,0.99])"
      ],
      "execution_count": 21,
      "outputs": [
        {
          "output_type": "execute_result",
          "data": {
            "text/html": [
              "<div>\n",
              "<style scoped>\n",
              "    .dataframe tbody tr th:only-of-type {\n",
              "        vertical-align: middle;\n",
              "    }\n",
              "\n",
              "    .dataframe tbody tr th {\n",
              "        vertical-align: top;\n",
              "    }\n",
              "\n",
              "    .dataframe thead th {\n",
              "        text-align: right;\n",
              "    }\n",
              "</style>\n",
              "<table border=\"1\" class=\"dataframe\">\n",
              "  <thead>\n",
              "    <tr style=\"text-align: right;\">\n",
              "      <th></th>\n",
              "      <th>lead_time</th>\n",
              "      <th>arrival_date_week_number</th>\n",
              "      <th>arrival_date_day_of_month</th>\n",
              "      <th>stays_in_week_nights</th>\n",
              "      <th>previous_bookings_not_canceled</th>\n",
              "      <th>booking_changes</th>\n",
              "      <th>agent</th>\n",
              "      <th>company</th>\n",
              "      <th>days_in_waiting_list</th>\n",
              "      <th>adr</th>\n",
              "    </tr>\n",
              "  </thead>\n",
              "  <tbody>\n",
              "    <tr>\n",
              "      <th>count</th>\n",
              "      <td>119390.000000</td>\n",
              "      <td>119390.000000</td>\n",
              "      <td>119390.000000</td>\n",
              "      <td>119390.000000</td>\n",
              "      <td>119390.000000</td>\n",
              "      <td>119390.000000</td>\n",
              "      <td>103050.000000</td>\n",
              "      <td>6797.000000</td>\n",
              "      <td>119390.000000</td>\n",
              "      <td>119390.000000</td>\n",
              "    </tr>\n",
              "    <tr>\n",
              "      <th>mean</th>\n",
              "      <td>104.011416</td>\n",
              "      <td>27.165173</td>\n",
              "      <td>15.798241</td>\n",
              "      <td>2.500302</td>\n",
              "      <td>0.137097</td>\n",
              "      <td>0.221124</td>\n",
              "      <td>86.693382</td>\n",
              "      <td>189.266735</td>\n",
              "      <td>2.321149</td>\n",
              "      <td>101.831122</td>\n",
              "    </tr>\n",
              "    <tr>\n",
              "      <th>std</th>\n",
              "      <td>106.863097</td>\n",
              "      <td>13.605138</td>\n",
              "      <td>8.780829</td>\n",
              "      <td>1.908286</td>\n",
              "      <td>1.497437</td>\n",
              "      <td>0.652306</td>\n",
              "      <td>110.774548</td>\n",
              "      <td>131.655015</td>\n",
              "      <td>17.594721</td>\n",
              "      <td>50.535790</td>\n",
              "    </tr>\n",
              "    <tr>\n",
              "      <th>min</th>\n",
              "      <td>0.000000</td>\n",
              "      <td>1.000000</td>\n",
              "      <td>1.000000</td>\n",
              "      <td>0.000000</td>\n",
              "      <td>0.000000</td>\n",
              "      <td>0.000000</td>\n",
              "      <td>1.000000</td>\n",
              "      <td>6.000000</td>\n",
              "      <td>0.000000</td>\n",
              "      <td>-6.380000</td>\n",
              "    </tr>\n",
              "    <tr>\n",
              "      <th>1%</th>\n",
              "      <td>0.000000</td>\n",
              "      <td>2.000000</td>\n",
              "      <td>1.000000</td>\n",
              "      <td>0.000000</td>\n",
              "      <td>0.000000</td>\n",
              "      <td>0.000000</td>\n",
              "      <td>1.000000</td>\n",
              "      <td>16.000000</td>\n",
              "      <td>0.000000</td>\n",
              "      <td>0.000000</td>\n",
              "    </tr>\n",
              "    <tr>\n",
              "      <th>5%</th>\n",
              "      <td>0.000000</td>\n",
              "      <td>5.000000</td>\n",
              "      <td>2.000000</td>\n",
              "      <td>0.000000</td>\n",
              "      <td>0.000000</td>\n",
              "      <td>0.000000</td>\n",
              "      <td>1.000000</td>\n",
              "      <td>40.000000</td>\n",
              "      <td>0.000000</td>\n",
              "      <td>38.400000</td>\n",
              "    </tr>\n",
              "    <tr>\n",
              "      <th>10%</th>\n",
              "      <td>3.000000</td>\n",
              "      <td>8.000000</td>\n",
              "      <td>4.000000</td>\n",
              "      <td>1.000000</td>\n",
              "      <td>0.000000</td>\n",
              "      <td>0.000000</td>\n",
              "      <td>6.000000</td>\n",
              "      <td>40.000000</td>\n",
              "      <td>0.000000</td>\n",
              "      <td>50.000000</td>\n",
              "    </tr>\n",
              "    <tr>\n",
              "      <th>25%</th>\n",
              "      <td>18.000000</td>\n",
              "      <td>16.000000</td>\n",
              "      <td>8.000000</td>\n",
              "      <td>1.000000</td>\n",
              "      <td>0.000000</td>\n",
              "      <td>0.000000</td>\n",
              "      <td>9.000000</td>\n",
              "      <td>62.000000</td>\n",
              "      <td>0.000000</td>\n",
              "      <td>69.290000</td>\n",
              "    </tr>\n",
              "    <tr>\n",
              "      <th>50%</th>\n",
              "      <td>69.000000</td>\n",
              "      <td>28.000000</td>\n",
              "      <td>16.000000</td>\n",
              "      <td>2.000000</td>\n",
              "      <td>0.000000</td>\n",
              "      <td>0.000000</td>\n",
              "      <td>14.000000</td>\n",
              "      <td>179.000000</td>\n",
              "      <td>0.000000</td>\n",
              "      <td>94.575000</td>\n",
              "    </tr>\n",
              "    <tr>\n",
              "      <th>75%</th>\n",
              "      <td>160.000000</td>\n",
              "      <td>38.000000</td>\n",
              "      <td>23.000000</td>\n",
              "      <td>3.000000</td>\n",
              "      <td>0.000000</td>\n",
              "      <td>0.000000</td>\n",
              "      <td>229.000000</td>\n",
              "      <td>270.000000</td>\n",
              "      <td>0.000000</td>\n",
              "      <td>126.000000</td>\n",
              "    </tr>\n",
              "    <tr>\n",
              "      <th>85%</th>\n",
              "      <td>216.000000</td>\n",
              "      <td>43.000000</td>\n",
              "      <td>26.000000</td>\n",
              "      <td>4.000000</td>\n",
              "      <td>0.000000</td>\n",
              "      <td>1.000000</td>\n",
              "      <td>240.000000</td>\n",
              "      <td>343.000000</td>\n",
              "      <td>0.000000</td>\n",
              "      <td>147.000000</td>\n",
              "    </tr>\n",
              "    <tr>\n",
              "      <th>88%</th>\n",
              "      <td>244.000000</td>\n",
              "      <td>44.000000</td>\n",
              "      <td>27.000000</td>\n",
              "      <td>5.000000</td>\n",
              "      <td>0.000000</td>\n",
              "      <td>1.000000</td>\n",
              "      <td>240.000000</td>\n",
              "      <td>367.000000</td>\n",
              "      <td>0.000000</td>\n",
              "      <td>157.280000</td>\n",
              "    </tr>\n",
              "    <tr>\n",
              "      <th>90%</th>\n",
              "      <td>265.000000</td>\n",
              "      <td>46.000000</td>\n",
              "      <td>28.000000</td>\n",
              "      <td>5.000000</td>\n",
              "      <td>0.000000</td>\n",
              "      <td>1.000000</td>\n",
              "      <td>241.000000</td>\n",
              "      <td>390.400000</td>\n",
              "      <td>0.000000</td>\n",
              "      <td>164.000000</td>\n",
              "    </tr>\n",
              "    <tr>\n",
              "      <th>99%</th>\n",
              "      <td>444.000000</td>\n",
              "      <td>53.000000</td>\n",
              "      <td>31.000000</td>\n",
              "      <td>10.000000</td>\n",
              "      <td>3.000000</td>\n",
              "      <td>3.000000</td>\n",
              "      <td>390.000000</td>\n",
              "      <td>513.040000</td>\n",
              "      <td>75.000000</td>\n",
              "      <td>252.000000</td>\n",
              "    </tr>\n",
              "    <tr>\n",
              "      <th>max</th>\n",
              "      <td>737.000000</td>\n",
              "      <td>53.000000</td>\n",
              "      <td>31.000000</td>\n",
              "      <td>50.000000</td>\n",
              "      <td>72.000000</td>\n",
              "      <td>21.000000</td>\n",
              "      <td>535.000000</td>\n",
              "      <td>543.000000</td>\n",
              "      <td>391.000000</td>\n",
              "      <td>5400.000000</td>\n",
              "    </tr>\n",
              "  </tbody>\n",
              "</table>\n",
              "</div>"
            ],
            "text/plain": [
              "           lead_time  arrival_date_week_number  arrival_date_day_of_month  \\\n",
              "count  119390.000000             119390.000000              119390.000000   \n",
              "mean      104.011416                 27.165173                  15.798241   \n",
              "std       106.863097                 13.605138                   8.780829   \n",
              "min         0.000000                  1.000000                   1.000000   \n",
              "1%          0.000000                  2.000000                   1.000000   \n",
              "5%          0.000000                  5.000000                   2.000000   \n",
              "10%         3.000000                  8.000000                   4.000000   \n",
              "25%        18.000000                 16.000000                   8.000000   \n",
              "50%        69.000000                 28.000000                  16.000000   \n",
              "75%       160.000000                 38.000000                  23.000000   \n",
              "85%       216.000000                 43.000000                  26.000000   \n",
              "88%       244.000000                 44.000000                  27.000000   \n",
              "90%       265.000000                 46.000000                  28.000000   \n",
              "99%       444.000000                 53.000000                  31.000000   \n",
              "max       737.000000                 53.000000                  31.000000   \n",
              "\n",
              "       stays_in_week_nights  previous_bookings_not_canceled  booking_changes  \\\n",
              "count         119390.000000                   119390.000000    119390.000000   \n",
              "mean               2.500302                        0.137097         0.221124   \n",
              "std                1.908286                        1.497437         0.652306   \n",
              "min                0.000000                        0.000000         0.000000   \n",
              "1%                 0.000000                        0.000000         0.000000   \n",
              "5%                 0.000000                        0.000000         0.000000   \n",
              "10%                1.000000                        0.000000         0.000000   \n",
              "25%                1.000000                        0.000000         0.000000   \n",
              "50%                2.000000                        0.000000         0.000000   \n",
              "75%                3.000000                        0.000000         0.000000   \n",
              "85%                4.000000                        0.000000         1.000000   \n",
              "88%                5.000000                        0.000000         1.000000   \n",
              "90%                5.000000                        0.000000         1.000000   \n",
              "99%               10.000000                        3.000000         3.000000   \n",
              "max               50.000000                       72.000000        21.000000   \n",
              "\n",
              "               agent      company  days_in_waiting_list            adr  \n",
              "count  103050.000000  6797.000000         119390.000000  119390.000000  \n",
              "mean       86.693382   189.266735              2.321149     101.831122  \n",
              "std       110.774548   131.655015             17.594721      50.535790  \n",
              "min         1.000000     6.000000              0.000000      -6.380000  \n",
              "1%          1.000000    16.000000              0.000000       0.000000  \n",
              "5%          1.000000    40.000000              0.000000      38.400000  \n",
              "10%         6.000000    40.000000              0.000000      50.000000  \n",
              "25%         9.000000    62.000000              0.000000      69.290000  \n",
              "50%        14.000000   179.000000              0.000000      94.575000  \n",
              "75%       229.000000   270.000000              0.000000     126.000000  \n",
              "85%       240.000000   343.000000              0.000000     147.000000  \n",
              "88%       240.000000   367.000000              0.000000     157.280000  \n",
              "90%       241.000000   390.400000              0.000000     164.000000  \n",
              "99%       390.000000   513.040000             75.000000     252.000000  \n",
              "max       535.000000   543.000000            391.000000    5400.000000  "
            ]
          },
          "metadata": {},
          "execution_count": 21
        }
      ]
    },
    {
      "cell_type": "markdown",
      "metadata": {
        "id": "oHjtKowdWv6w"
      },
      "source": [
        "# Capping and Flooring of outliers"
      ]
    },
    {
      "cell_type": "code",
      "metadata": {
        "id": "4MEy6vG_Wv6w"
      },
      "source": [
        "def outlier_cap(x):\n",
        "    x=x.clip(lower=x.quantile(0.01))\n",
        "    x=x.clip(upper=x.quantile(0.99))\n",
        "    return(x)"
      ],
      "execution_count": 22,
      "outputs": []
    },
    {
      "cell_type": "code",
      "metadata": {
        "id": "ap3pyvOaWv6w"
      },
      "source": [
        "num=num.apply(lambda x : outlier_cap(x))"
      ],
      "execution_count": 23,
      "outputs": []
    },
    {
      "cell_type": "code",
      "metadata": {
        "scrolled": false,
        "colab": {
          "base_uri": "https://localhost:8080/",
          "height": 477
        },
        "id": "_B4vbKsyWv6w",
        "outputId": "c7f32ed3-c92f-4f27-87fe-e2dbd1e9766e"
      },
      "source": [
        "num.describe(percentiles=[0.01,0.05,0.10,0.25,0.50,0.75,0.85,0.9,0.99])"
      ],
      "execution_count": 24,
      "outputs": [
        {
          "output_type": "execute_result",
          "data": {
            "text/html": [
              "<div>\n",
              "<style scoped>\n",
              "    .dataframe tbody tr th:only-of-type {\n",
              "        vertical-align: middle;\n",
              "    }\n",
              "\n",
              "    .dataframe tbody tr th {\n",
              "        vertical-align: top;\n",
              "    }\n",
              "\n",
              "    .dataframe thead th {\n",
              "        text-align: right;\n",
              "    }\n",
              "</style>\n",
              "<table border=\"1\" class=\"dataframe\">\n",
              "  <thead>\n",
              "    <tr style=\"text-align: right;\">\n",
              "      <th></th>\n",
              "      <th>lead_time</th>\n",
              "      <th>arrival_date_week_number</th>\n",
              "      <th>arrival_date_day_of_month</th>\n",
              "      <th>stays_in_week_nights</th>\n",
              "      <th>previous_bookings_not_canceled</th>\n",
              "      <th>booking_changes</th>\n",
              "      <th>agent</th>\n",
              "      <th>company</th>\n",
              "      <th>days_in_waiting_list</th>\n",
              "      <th>adr</th>\n",
              "    </tr>\n",
              "  </thead>\n",
              "  <tbody>\n",
              "    <tr>\n",
              "      <th>count</th>\n",
              "      <td>119390.000000</td>\n",
              "      <td>119390.000000</td>\n",
              "      <td>119390.000000</td>\n",
              "      <td>119390.000000</td>\n",
              "      <td>119390.000000</td>\n",
              "      <td>119390.000000</td>\n",
              "      <td>103050.000000</td>\n",
              "      <td>6797.000000</td>\n",
              "      <td>119390.000000</td>\n",
              "      <td>119390.000000</td>\n",
              "    </tr>\n",
              "    <tr>\n",
              "      <th>mean</th>\n",
              "      <td>103.409180</td>\n",
              "      <td>27.173943</td>\n",
              "      <td>15.798241</td>\n",
              "      <td>2.479211</td>\n",
              "      <td>0.060273</td>\n",
              "      <td>0.209574</td>\n",
              "      <td>86.008598</td>\n",
              "      <td>189.206373</td>\n",
              "      <td>1.606902</td>\n",
              "      <td>101.461251</td>\n",
              "    </tr>\n",
              "    <tr>\n",
              "      <th>std</th>\n",
              "      <td>104.600923</td>\n",
              "      <td>13.588582</td>\n",
              "      <td>8.780829</td>\n",
              "      <td>1.761267</td>\n",
              "      <td>0.376351</td>\n",
              "      <td>0.555245</td>\n",
              "      <td>108.591334</td>\n",
              "      <td>131.297172</td>\n",
              "      <td>9.760268</td>\n",
              "      <td>46.905036</td>\n",
              "    </tr>\n",
              "    <tr>\n",
              "      <th>min</th>\n",
              "      <td>0.000000</td>\n",
              "      <td>2.000000</td>\n",
              "      <td>1.000000</td>\n",
              "      <td>0.000000</td>\n",
              "      <td>0.000000</td>\n",
              "      <td>0.000000</td>\n",
              "      <td>1.000000</td>\n",
              "      <td>16.000000</td>\n",
              "      <td>0.000000</td>\n",
              "      <td>0.000000</td>\n",
              "    </tr>\n",
              "    <tr>\n",
              "      <th>1%</th>\n",
              "      <td>0.000000</td>\n",
              "      <td>2.000000</td>\n",
              "      <td>1.000000</td>\n",
              "      <td>0.000000</td>\n",
              "      <td>0.000000</td>\n",
              "      <td>0.000000</td>\n",
              "      <td>1.000000</td>\n",
              "      <td>16.000000</td>\n",
              "      <td>0.000000</td>\n",
              "      <td>0.000000</td>\n",
              "    </tr>\n",
              "    <tr>\n",
              "      <th>5%</th>\n",
              "      <td>0.000000</td>\n",
              "      <td>5.000000</td>\n",
              "      <td>2.000000</td>\n",
              "      <td>0.000000</td>\n",
              "      <td>0.000000</td>\n",
              "      <td>0.000000</td>\n",
              "      <td>1.000000</td>\n",
              "      <td>40.000000</td>\n",
              "      <td>0.000000</td>\n",
              "      <td>38.400000</td>\n",
              "    </tr>\n",
              "    <tr>\n",
              "      <th>10%</th>\n",
              "      <td>3.000000</td>\n",
              "      <td>8.000000</td>\n",
              "      <td>4.000000</td>\n",
              "      <td>1.000000</td>\n",
              "      <td>0.000000</td>\n",
              "      <td>0.000000</td>\n",
              "      <td>6.000000</td>\n",
              "      <td>40.000000</td>\n",
              "      <td>0.000000</td>\n",
              "      <td>50.000000</td>\n",
              "    </tr>\n",
              "    <tr>\n",
              "      <th>25%</th>\n",
              "      <td>18.000000</td>\n",
              "      <td>16.000000</td>\n",
              "      <td>8.000000</td>\n",
              "      <td>1.000000</td>\n",
              "      <td>0.000000</td>\n",
              "      <td>0.000000</td>\n",
              "      <td>9.000000</td>\n",
              "      <td>62.000000</td>\n",
              "      <td>0.000000</td>\n",
              "      <td>69.290000</td>\n",
              "    </tr>\n",
              "    <tr>\n",
              "      <th>50%</th>\n",
              "      <td>69.000000</td>\n",
              "      <td>28.000000</td>\n",
              "      <td>16.000000</td>\n",
              "      <td>2.000000</td>\n",
              "      <td>0.000000</td>\n",
              "      <td>0.000000</td>\n",
              "      <td>14.000000</td>\n",
              "      <td>179.000000</td>\n",
              "      <td>0.000000</td>\n",
              "      <td>94.575000</td>\n",
              "    </tr>\n",
              "    <tr>\n",
              "      <th>75%</th>\n",
              "      <td>160.000000</td>\n",
              "      <td>38.000000</td>\n",
              "      <td>23.000000</td>\n",
              "      <td>3.000000</td>\n",
              "      <td>0.000000</td>\n",
              "      <td>0.000000</td>\n",
              "      <td>229.000000</td>\n",
              "      <td>270.000000</td>\n",
              "      <td>0.000000</td>\n",
              "      <td>126.000000</td>\n",
              "    </tr>\n",
              "    <tr>\n",
              "      <th>85%</th>\n",
              "      <td>216.000000</td>\n",
              "      <td>43.000000</td>\n",
              "      <td>26.000000</td>\n",
              "      <td>4.000000</td>\n",
              "      <td>0.000000</td>\n",
              "      <td>1.000000</td>\n",
              "      <td>240.000000</td>\n",
              "      <td>343.000000</td>\n",
              "      <td>0.000000</td>\n",
              "      <td>147.000000</td>\n",
              "    </tr>\n",
              "    <tr>\n",
              "      <th>90%</th>\n",
              "      <td>265.000000</td>\n",
              "      <td>46.000000</td>\n",
              "      <td>28.000000</td>\n",
              "      <td>5.000000</td>\n",
              "      <td>0.000000</td>\n",
              "      <td>1.000000</td>\n",
              "      <td>241.000000</td>\n",
              "      <td>390.400000</td>\n",
              "      <td>0.000000</td>\n",
              "      <td>164.000000</td>\n",
              "    </tr>\n",
              "    <tr>\n",
              "      <th>99%</th>\n",
              "      <td>444.000000</td>\n",
              "      <td>53.000000</td>\n",
              "      <td>31.000000</td>\n",
              "      <td>10.000000</td>\n",
              "      <td>3.000000</td>\n",
              "      <td>3.000000</td>\n",
              "      <td>390.000000</td>\n",
              "      <td>513.001600</td>\n",
              "      <td>75.000000</td>\n",
              "      <td>252.000000</td>\n",
              "    </tr>\n",
              "    <tr>\n",
              "      <th>max</th>\n",
              "      <td>444.000000</td>\n",
              "      <td>53.000000</td>\n",
              "      <td>31.000000</td>\n",
              "      <td>10.000000</td>\n",
              "      <td>3.000000</td>\n",
              "      <td>3.000000</td>\n",
              "      <td>390.000000</td>\n",
              "      <td>513.040000</td>\n",
              "      <td>75.000000</td>\n",
              "      <td>252.000000</td>\n",
              "    </tr>\n",
              "  </tbody>\n",
              "</table>\n",
              "</div>"
            ],
            "text/plain": [
              "           lead_time  arrival_date_week_number  arrival_date_day_of_month  \\\n",
              "count  119390.000000             119390.000000              119390.000000   \n",
              "mean      103.409180                 27.173943                  15.798241   \n",
              "std       104.600923                 13.588582                   8.780829   \n",
              "min         0.000000                  2.000000                   1.000000   \n",
              "1%          0.000000                  2.000000                   1.000000   \n",
              "5%          0.000000                  5.000000                   2.000000   \n",
              "10%         3.000000                  8.000000                   4.000000   \n",
              "25%        18.000000                 16.000000                   8.000000   \n",
              "50%        69.000000                 28.000000                  16.000000   \n",
              "75%       160.000000                 38.000000                  23.000000   \n",
              "85%       216.000000                 43.000000                  26.000000   \n",
              "90%       265.000000                 46.000000                  28.000000   \n",
              "99%       444.000000                 53.000000                  31.000000   \n",
              "max       444.000000                 53.000000                  31.000000   \n",
              "\n",
              "       stays_in_week_nights  previous_bookings_not_canceled  booking_changes  \\\n",
              "count         119390.000000                   119390.000000    119390.000000   \n",
              "mean               2.479211                        0.060273         0.209574   \n",
              "std                1.761267                        0.376351         0.555245   \n",
              "min                0.000000                        0.000000         0.000000   \n",
              "1%                 0.000000                        0.000000         0.000000   \n",
              "5%                 0.000000                        0.000000         0.000000   \n",
              "10%                1.000000                        0.000000         0.000000   \n",
              "25%                1.000000                        0.000000         0.000000   \n",
              "50%                2.000000                        0.000000         0.000000   \n",
              "75%                3.000000                        0.000000         0.000000   \n",
              "85%                4.000000                        0.000000         1.000000   \n",
              "90%                5.000000                        0.000000         1.000000   \n",
              "99%               10.000000                        3.000000         3.000000   \n",
              "max               10.000000                        3.000000         3.000000   \n",
              "\n",
              "               agent      company  days_in_waiting_list            adr  \n",
              "count  103050.000000  6797.000000         119390.000000  119390.000000  \n",
              "mean       86.008598   189.206373              1.606902     101.461251  \n",
              "std       108.591334   131.297172              9.760268      46.905036  \n",
              "min         1.000000    16.000000              0.000000       0.000000  \n",
              "1%          1.000000    16.000000              0.000000       0.000000  \n",
              "5%          1.000000    40.000000              0.000000      38.400000  \n",
              "10%         6.000000    40.000000              0.000000      50.000000  \n",
              "25%         9.000000    62.000000              0.000000      69.290000  \n",
              "50%        14.000000   179.000000              0.000000      94.575000  \n",
              "75%       229.000000   270.000000              0.000000     126.000000  \n",
              "85%       240.000000   343.000000              0.000000     147.000000  \n",
              "90%       241.000000   390.400000              0.000000     164.000000  \n",
              "99%       390.000000   513.001600             75.000000     252.000000  \n",
              "max       390.000000   513.040000             75.000000     252.000000  "
            ]
          },
          "metadata": {},
          "execution_count": 24
        }
      ]
    },
    {
      "cell_type": "markdown",
      "metadata": {
        "id": "dqos-2b_Wv6x"
      },
      "source": [
        "# Missing Value Analysis"
      ]
    },
    {
      "cell_type": "code",
      "metadata": {
        "scrolled": true,
        "colab": {
          "base_uri": "https://localhost:8080/"
        },
        "id": "DmPLlQC-Wv6x",
        "outputId": "e2328aee-0b7f-4d39-f830-a6cbc815114c"
      },
      "source": [
        "num.isnull().mean()"
      ],
      "execution_count": 25,
      "outputs": [
        {
          "output_type": "execute_result",
          "data": {
            "text/plain": [
              "lead_time                         0.000000\n",
              "arrival_date_week_number          0.000000\n",
              "arrival_date_day_of_month         0.000000\n",
              "stays_in_week_nights              0.000000\n",
              "previous_bookings_not_canceled    0.000000\n",
              "booking_changes                   0.000000\n",
              "agent                             0.136862\n",
              "company                           0.943069\n",
              "days_in_waiting_list              0.000000\n",
              "adr                               0.000000\n",
              "dtype: float64"
            ]
          },
          "metadata": {},
          "execution_count": 25
        }
      ]
    },
    {
      "cell_type": "code",
      "metadata": {
        "colab": {
          "base_uri": "https://localhost:8080/"
        },
        "id": "-2wy7nPOWv6x",
        "outputId": "6fbb6aff-5c81-4d83-da96-2f0b3a8bff51"
      },
      "source": [
        "char.isnull().mean()"
      ],
      "execution_count": 26,
      "outputs": [
        {
          "output_type": "execute_result",
          "data": {
            "text/plain": [
              "hotel                          0.000000\n",
              "arrival_month_year             0.000000\n",
              "arrival_date_month             0.000000\n",
              "meal                           0.000000\n",
              "country                        0.004087\n",
              "market_segment                 0.000000\n",
              "distribution_channel           0.000000\n",
              "reserved_room_type             0.000000\n",
              "assigned_room_type             0.000000\n",
              "deposit_type                   0.000000\n",
              "customer_type                  0.000000\n",
              "reservation_status             0.000000\n",
              "reservation_status_date        0.000000\n",
              "arrival_date_year              0.000000\n",
              "stays_in_weekend_nights        0.000000\n",
              "adults                         0.000000\n",
              "children                       0.000034\n",
              "babies                         0.000000\n",
              "is_repeated_guest              0.000000\n",
              "previous_cancellations         0.000000\n",
              "required_car_parking_spaces    0.000000\n",
              "total_of_special_requests      0.000000\n",
              "dtype: float64"
            ]
          },
          "metadata": {},
          "execution_count": 26
        }
      ]
    },
    {
      "cell_type": "markdown",
      "metadata": {
        "id": "fya8sDkiWv6y"
      },
      "source": [
        "# Dropping variables that have >25% missing values"
      ]
    },
    {
      "cell_type": "code",
      "metadata": {
        "scrolled": false,
        "id": "Z2S_t_crWv6y"
      },
      "source": [
        "num = num.loc[:, num.isnull().mean() <= .25]"
      ],
      "execution_count": 27,
      "outputs": []
    },
    {
      "cell_type": "code",
      "metadata": {
        "colab": {
          "base_uri": "https://localhost:8080/"
        },
        "id": "Eng68-dDWv6y",
        "outputId": "30687cab-f8ea-46bb-c3e1-2bedaa5aa112"
      },
      "source": [
        "num.isnull().mean()"
      ],
      "execution_count": 28,
      "outputs": [
        {
          "output_type": "execute_result",
          "data": {
            "text/plain": [
              "lead_time                         0.000000\n",
              "arrival_date_week_number          0.000000\n",
              "arrival_date_day_of_month         0.000000\n",
              "stays_in_week_nights              0.000000\n",
              "previous_bookings_not_canceled    0.000000\n",
              "booking_changes                   0.000000\n",
              "agent                             0.136862\n",
              "days_in_waiting_list              0.000000\n",
              "adr                               0.000000\n",
              "dtype: float64"
            ]
          },
          "metadata": {},
          "execution_count": 28
        }
      ]
    },
    {
      "cell_type": "markdown",
      "metadata": {
        "id": "OkKc9AQ0Wv6y"
      },
      "source": [
        "# Imputation of Missing Values"
      ]
    },
    {
      "cell_type": "code",
      "metadata": {
        "id": "zqqegehPWv6z"
      },
      "source": [
        "imputer = SimpleImputer(missing_values=np.nan, strategy='mean')\n",
        "num_1=pd.DataFrame(imputer.fit_transform(num),index=num.index,columns=num.columns)"
      ],
      "execution_count": 29,
      "outputs": []
    },
    {
      "cell_type": "code",
      "metadata": {
        "colab": {
          "base_uri": "https://localhost:8080/"
        },
        "id": "o6nYeZHdWv6z",
        "outputId": "0c01d554-bea3-4331-bf37-30e852ed7e70"
      },
      "source": [
        "num_1.isnull().mean()"
      ],
      "execution_count": 30,
      "outputs": [
        {
          "output_type": "execute_result",
          "data": {
            "text/plain": [
              "lead_time                         0.0\n",
              "arrival_date_week_number          0.0\n",
              "arrival_date_day_of_month         0.0\n",
              "stays_in_week_nights              0.0\n",
              "previous_bookings_not_canceled    0.0\n",
              "booking_changes                   0.0\n",
              "agent                             0.0\n",
              "days_in_waiting_list              0.0\n",
              "adr                               0.0\n",
              "dtype: float64"
            ]
          },
          "metadata": {},
          "execution_count": 30
        }
      ]
    },
    {
      "cell_type": "code",
      "metadata": {
        "id": "gf1O_XhOWv6z"
      },
      "source": [
        "imputer=SimpleImputer(missing_values=np.nan, strategy='most_frequent')\n",
        "char_1=pd.DataFrame(imputer.fit_transform(char),index=char.index,columns=char.columns)"
      ],
      "execution_count": 31,
      "outputs": []
    },
    {
      "cell_type": "code",
      "metadata": {
        "colab": {
          "base_uri": "https://localhost:8080/"
        },
        "id": "EKhNe9N2Wv6z",
        "outputId": "68881677-19e6-4a8b-d1ed-ca947bf5953c"
      },
      "source": [
        "char_1.isnull().mean()"
      ],
      "execution_count": 32,
      "outputs": [
        {
          "output_type": "execute_result",
          "data": {
            "text/plain": [
              "hotel                          0.0\n",
              "arrival_month_year             0.0\n",
              "arrival_date_month             0.0\n",
              "meal                           0.0\n",
              "country                        0.0\n",
              "market_segment                 0.0\n",
              "distribution_channel           0.0\n",
              "reserved_room_type             0.0\n",
              "assigned_room_type             0.0\n",
              "deposit_type                   0.0\n",
              "customer_type                  0.0\n",
              "reservation_status             0.0\n",
              "reservation_status_date        0.0\n",
              "arrival_date_year              0.0\n",
              "stays_in_weekend_nights        0.0\n",
              "adults                         0.0\n",
              "children                       0.0\n",
              "babies                         0.0\n",
              "is_repeated_guest              0.0\n",
              "previous_cancellations         0.0\n",
              "required_car_parking_spaces    0.0\n",
              "total_of_special_requests      0.0\n",
              "dtype: float64"
            ]
          },
          "metadata": {},
          "execution_count": 32
        }
      ]
    },
    {
      "cell_type": "markdown",
      "metadata": {
        "id": "TqH22QY4Wv60"
      },
      "source": [
        "# Feature Selection - Numerical Features "
      ]
    },
    {
      "cell_type": "markdown",
      "metadata": {
        "id": "MofYF801Wv60"
      },
      "source": [
        "# Part 1 : Remove Features with 0 Variance"
      ]
    },
    {
      "cell_type": "code",
      "metadata": {
        "id": "zoE2y30GWv60"
      },
      "source": [
        "varselector= VarianceThreshold(threshold=0)\n",
        "varselector.fit_transform(num_1)\n",
        "# Get columns to keep and create new dataframe with those only\n",
        "cols = varselector.get_support(indices=True)\n",
        "num_2 = num_1.iloc[:,cols]"
      ],
      "execution_count": 33,
      "outputs": []
    },
    {
      "cell_type": "code",
      "metadata": {
        "scrolled": true,
        "colab": {
          "base_uri": "https://localhost:8080/"
        },
        "id": "8c01wmLnWv61",
        "outputId": "e13cd528-23b0-422b-d837-1b9f9c2aeaba"
      },
      "source": [
        "num_2.iloc[0]"
      ],
      "execution_count": 34,
      "outputs": [
        {
          "output_type": "execute_result",
          "data": {
            "text/plain": [
              "lead_time                         342.000000\n",
              "arrival_date_week_number           27.000000\n",
              "arrival_date_day_of_month           1.000000\n",
              "stays_in_week_nights                0.000000\n",
              "previous_bookings_not_canceled      0.000000\n",
              "booking_changes                     3.000000\n",
              "agent                              86.008598\n",
              "days_in_waiting_list                0.000000\n",
              "adr                                 0.000000\n",
              "Name: 0, dtype: float64"
            ]
          },
          "metadata": {},
          "execution_count": 34
        }
      ]
    },
    {
      "cell_type": "markdown",
      "metadata": {
        "id": "iUu-5CkNWv61"
      },
      "source": [
        "# Part 1 - Bi Variate Analysis (Feature Discretization)"
      ]
    },
    {
      "cell_type": "code",
      "metadata": {
        "scrolled": false,
        "colab": {
          "base_uri": "https://localhost:8080/",
          "height": 202
        },
        "id": "lxYDqTbCWv62",
        "outputId": "7608cacf-e841-409c-ad08-dfab1abe7a07"
      },
      "source": [
        "discrete=KBinsDiscretizer(n_bins=10,encode='ordinal', strategy='quantile')\n",
        "num_binned=pd.DataFrame(discrete.fit_transform(num_2),index=num_2.index, columns=num_2.columns).add_suffix('_Rank')\n",
        "num_binned.tail()"
      ],
      "execution_count": 35,
      "outputs": [
        {
          "output_type": "execute_result",
          "data": {
            "text/html": [
              "<div>\n",
              "<style scoped>\n",
              "    .dataframe tbody tr th:only-of-type {\n",
              "        vertical-align: middle;\n",
              "    }\n",
              "\n",
              "    .dataframe tbody tr th {\n",
              "        vertical-align: top;\n",
              "    }\n",
              "\n",
              "    .dataframe thead th {\n",
              "        text-align: right;\n",
              "    }\n",
              "</style>\n",
              "<table border=\"1\" class=\"dataframe\">\n",
              "  <thead>\n",
              "    <tr style=\"text-align: right;\">\n",
              "      <th></th>\n",
              "      <th>lead_time_Rank</th>\n",
              "      <th>arrival_date_week_number_Rank</th>\n",
              "      <th>arrival_date_day_of_month_Rank</th>\n",
              "      <th>stays_in_week_nights_Rank</th>\n",
              "      <th>previous_bookings_not_canceled_Rank</th>\n",
              "      <th>booking_changes_Rank</th>\n",
              "      <th>agent_Rank</th>\n",
              "      <th>days_in_waiting_list_Rank</th>\n",
              "      <th>adr_Rank</th>\n",
              "    </tr>\n",
              "  </thead>\n",
              "  <tbody>\n",
              "    <tr>\n",
              "      <th>119385</th>\n",
              "      <td>2.0</td>\n",
              "      <td>6.0</td>\n",
              "      <td>9.0</td>\n",
              "      <td>5.0</td>\n",
              "      <td>0.0</td>\n",
              "      <td>0.0</td>\n",
              "      <td>5.0</td>\n",
              "      <td>0.0</td>\n",
              "      <td>5.0</td>\n",
              "    </tr>\n",
              "    <tr>\n",
              "      <th>119386</th>\n",
              "      <td>6.0</td>\n",
              "      <td>6.0</td>\n",
              "      <td>9.0</td>\n",
              "      <td>5.0</td>\n",
              "      <td>0.0</td>\n",
              "      <td>0.0</td>\n",
              "      <td>2.0</td>\n",
              "      <td>0.0</td>\n",
              "      <td>9.0</td>\n",
              "    </tr>\n",
              "    <tr>\n",
              "      <th>119387</th>\n",
              "      <td>3.0</td>\n",
              "      <td>6.0</td>\n",
              "      <td>9.0</td>\n",
              "      <td>5.0</td>\n",
              "      <td>0.0</td>\n",
              "      <td>0.0</td>\n",
              "      <td>2.0</td>\n",
              "      <td>0.0</td>\n",
              "      <td>8.0</td>\n",
              "    </tr>\n",
              "    <tr>\n",
              "      <th>119388</th>\n",
              "      <td>6.0</td>\n",
              "      <td>6.0</td>\n",
              "      <td>9.0</td>\n",
              "      <td>5.0</td>\n",
              "      <td>0.0</td>\n",
              "      <td>0.0</td>\n",
              "      <td>4.0</td>\n",
              "      <td>0.0</td>\n",
              "      <td>5.0</td>\n",
              "    </tr>\n",
              "    <tr>\n",
              "      <th>119389</th>\n",
              "      <td>8.0</td>\n",
              "      <td>6.0</td>\n",
              "      <td>9.0</td>\n",
              "      <td>5.0</td>\n",
              "      <td>0.0</td>\n",
              "      <td>0.0</td>\n",
              "      <td>2.0</td>\n",
              "      <td>0.0</td>\n",
              "      <td>8.0</td>\n",
              "    </tr>\n",
              "  </tbody>\n",
              "</table>\n",
              "</div>"
            ],
            "text/plain": [
              "        lead_time_Rank  arrival_date_week_number_Rank  \\\n",
              "119385             2.0                            6.0   \n",
              "119386             6.0                            6.0   \n",
              "119387             3.0                            6.0   \n",
              "119388             6.0                            6.0   \n",
              "119389             8.0                            6.0   \n",
              "\n",
              "        arrival_date_day_of_month_Rank  stays_in_week_nights_Rank  \\\n",
              "119385                             9.0                        5.0   \n",
              "119386                             9.0                        5.0   \n",
              "119387                             9.0                        5.0   \n",
              "119388                             9.0                        5.0   \n",
              "119389                             9.0                        5.0   \n",
              "\n",
              "        previous_bookings_not_canceled_Rank  booking_changes_Rank  agent_Rank  \\\n",
              "119385                                  0.0                   0.0         5.0   \n",
              "119386                                  0.0                   0.0         2.0   \n",
              "119387                                  0.0                   0.0         2.0   \n",
              "119388                                  0.0                   0.0         4.0   \n",
              "119389                                  0.0                   0.0         2.0   \n",
              "\n",
              "        days_in_waiting_list_Rank  adr_Rank  \n",
              "119385                        0.0       5.0  \n",
              "119386                        0.0       9.0  \n",
              "119387                        0.0       8.0  \n",
              "119388                        0.0       5.0  \n",
              "119389                        0.0       8.0  "
            ]
          },
          "metadata": {},
          "execution_count": 35
        }
      ]
    },
    {
      "cell_type": "code",
      "metadata": {
        "scrolled": true,
        "colab": {
          "base_uri": "https://localhost:8080/",
          "height": 1000
        },
        "id": "DInBwwbuWv62",
        "outputId": "56d0be0d-9ba1-4356-f9c5-c521082bc6eb"
      },
      "source": [
        "#Check if the features show a slope at all\n",
        "#If they do, then do you see some deciles below the population average and some higher than population average?\n",
        "#If that is the case then the slope will be strong\n",
        "#Conclusion: A strong slope is indicative of the features' ability to discriminate the event from non event\n",
        "#            making it a good predictor\n",
        "\n",
        "#percentage_income_goesinto_intallments=Insallment/annual_inc (Derived Variables/Feature Engineering)\n",
        "\n",
        "X_bin_combined=pd.concat([Y,num_binned],axis=1,join='inner')\n",
        "\n",
        "\n",
        "for col in (num_binned.columns):\n",
        "    plt.figure()\n",
        "    sns.lineplot(x=col,y=X_bin_combined['is_canceled'].mean(),data=X_bin_combined, color = 'red')\n",
        "    sns.barplot(x=col, y=\"is_canceled\",data=X_bin_combined, estimator=mean )\n",
        "plt.show()"
      ],
      "execution_count": 36,
      "outputs": [
        {
          "output_type": "display_data",
          "data": {
            "image/png": "[encoded data removed]",
            "text/plain": [
              "<Figure size 432x288 with 1 Axes>"
            ]
          },
          "metadata": {
            "needs_background": "light"
          }
        },
        {
          "output_type": "display_data",
          "data": {
            "image/png": "[encoded data removed]",
            "text/plain": [
              "<Figure size 432x288 with 1 Axes>"
            ]
          },
          "metadata": {
            "needs_background": "light"
          }
        },
        {
          "output_type": "display_data",
          "data": {
            "image/png": "[encoded data removed]",
            "text/plain": [
              "<Figure size 432x288 with 1 Axes>"
            ]
          },
          "metadata": {
            "needs_background": "light"
          }
        },
        {
          "output_type": "display_data",
          "data": {
            "image/png": "[encoded data removed]",
            "text/plain": [
              "<Figure size 432x288 with 1 Axes>"
            ]
          },
          "metadata": {
            "needs_background": "light"
          }
        },
        {
          "output_type": "display_data",
          "data": {
            "image/png": "[encoded data removed]",
            "text/plain": [
              "<Figure size 432x288 with 1 Axes>"
            ]
          },
          "metadata": {
            "needs_background": "light"
          }
        },
        {
          "output_type": "display_data",
          "data": {
            "image/png": "[encoded data removed]",
            "text/plain": [
              "<Figure size 432x288 with 1 Axes>"
            ]
          },
          "metadata": {
            "needs_background": "light"
          }
        },
        {
          "output_type": "display_data",
          "data": {
            "image/png": "[encoded data removed]",
            "text/plain": [
              "<Figure size 432x288 with 1 Axes>"
            ]
          },
          "metadata": {
            "needs_background": "light"
          }
        },
        {
          "output_type": "display_data",
          "data": {
            "image/png": "[encoded data removed]",
            "text/plain": [
              "<Figure size 432x288 with 1 Axes>"
            ]
          },
          "metadata": {
            "needs_background": "light"
          }
        },
        {
          "output_type": "display_data",
          "data": {
            "image/png": "[encoded data removed]",
            "text/plain": [
              "<Figure size 432x288 with 1 Axes>"
            ]
          },
          "metadata": {
            "needs_background": "light"
          }
        }
      ]
    },
    {
      "cell_type": "code",
      "metadata": {
        "id": "5a_ZCGzfWv63"
      },
      "source": [
        "# Check the descriptive statistics for the following features\n",
        "# previous_bookings_not_canceled\n",
        "# days_in_waiting_list\n",
        "# booking_changes\n",
        "\n",
        "num_2['day_wait_ind']=np.where(num_2['days_in_waiting_list']>0,1,0)\n",
        "num_2['previous_bookings_not_canceled_ind']=np.where(num_2['previous_bookings_not_canceled']>0,1,0)\n",
        "num_2['booking_changes_ind']=np.where(num_2['booking_changes']>0,1,0)"
      ],
      "execution_count": 37,
      "outputs": []
    },
    {
      "cell_type": "code",
      "metadata": {
        "id": "GfADQHiyWv63"
      },
      "source": [
        "num_varlist=['adr','arrival_date_day_of_month','arrival_date_week_number','days_in_waiting_list','previous_bookings_not_canceled',\n",
        "            'booking_changes']\n",
        "num_2=num_2.drop(num_varlist,axis=1)"
      ],
      "execution_count": 38,
      "outputs": []
    },
    {
      "cell_type": "code",
      "metadata": {
        "colab": {
          "base_uri": "https://localhost:8080/"
        },
        "id": "zk7ossQOWv63",
        "outputId": "4d56aace-a7dd-49a1-b308-c3f024b2bc9e"
      },
      "source": [
        "num_2.dtypes"
      ],
      "execution_count": 39,
      "outputs": [
        {
          "output_type": "execute_result",
          "data": {
            "text/plain": [
              "lead_time                             float64\n",
              "stays_in_week_nights                  float64\n",
              "agent                                 float64\n",
              "day_wait_ind                            int64\n",
              "previous_bookings_not_canceled_ind      int64\n",
              "booking_changes_ind                     int64\n",
              "dtype: object"
            ]
          },
          "metadata": {},
          "execution_count": 39
        }
      ]
    },
    {
      "cell_type": "code",
      "metadata": {
        "colab": {
          "base_uri": "https://localhost:8080/"
        },
        "id": "ye7KhamzWv64",
        "outputId": "42cfcdf9-2334-47b1-f867-ac3b1d97203e"
      },
      "source": [
        "num_2.shape"
      ],
      "execution_count": 40,
      "outputs": [
        {
          "output_type": "execute_result",
          "data": {
            "text/plain": [
              "(119390, 6)"
            ]
          },
          "metadata": {},
          "execution_count": 40
        }
      ]
    },
    {
      "cell_type": "markdown",
      "metadata": {
        "id": "SqFknuGAWv64"
      },
      "source": [
        "# Part 2 - Select K Best"
      ]
    },
    {
      "cell_type": "code",
      "metadata": {
        "id": "VTXynQMyWv64"
      },
      "source": [
        "selector = SelectKBest(chi2,k=4)\n",
        "selector.fit_transform(num_2, Y)\n",
        "# Get columns to keep and create new dataframe with those only\n",
        "cols = selector.get_support(indices=True)\n",
        "select_features_df_num = num_2.iloc[:,cols]"
      ],
      "execution_count": 41,
      "outputs": []
    },
    {
      "cell_type": "code",
      "metadata": {
        "scrolled": false,
        "colab": {
          "base_uri": "https://localhost:8080/"
        },
        "id": "mzHZwD_8Wv64",
        "outputId": "88a6e315-bfbb-43e4-98e4-24e021b20ed8"
      },
      "source": [
        "select_features_df_num.iloc[0]"
      ],
      "execution_count": 42,
      "outputs": [
        {
          "output_type": "execute_result",
          "data": {
            "text/plain": [
              "lead_time                             342.000000\n",
              "agent                                  86.008598\n",
              "previous_bookings_not_canceled_ind      0.000000\n",
              "booking_changes_ind                     1.000000\n",
              "Name: 0, dtype: float64"
            ]
          },
          "metadata": {},
          "execution_count": 42
        }
      ]
    },
    {
      "cell_type": "markdown",
      "metadata": {
        "id": "xgm44yvTWv65"
      },
      "source": [
        "# Feature Selection - Categorical Features "
      ]
    },
    {
      "cell_type": "code",
      "metadata": {
        "colab": {
          "base_uri": "https://localhost:8080/"
        },
        "id": "e7NgsofbWv65",
        "outputId": "aa14fb0a-c4ac-4032-d0f6-252d15eab07a"
      },
      "source": [
        "char.dtypes"
      ],
      "execution_count": 43,
      "outputs": [
        {
          "output_type": "execute_result",
          "data": {
            "text/plain": [
              "hotel                           object\n",
              "arrival_month_year              object\n",
              "arrival_date_month              object\n",
              "meal                            object\n",
              "country                         object\n",
              "market_segment                  object\n",
              "distribution_channel            object\n",
              "reserved_room_type              object\n",
              "assigned_room_type              object\n",
              "deposit_type                    object\n",
              "customer_type                   object\n",
              "reservation_status              object\n",
              "reservation_status_date         object\n",
              "arrival_date_year                int64\n",
              "stays_in_weekend_nights          int64\n",
              "adults                           int64\n",
              "children                       float64\n",
              "babies                           int64\n",
              "is_repeated_guest                int64\n",
              "previous_cancellations           int64\n",
              "required_car_parking_spaces      int64\n",
              "total_of_special_requests        int64\n",
              "dtype: object"
            ]
          },
          "metadata": {},
          "execution_count": 43
        }
      ]
    },
    {
      "cell_type": "markdown",
      "metadata": {
        "id": "Za6HgQYrWv65"
      },
      "source": [
        "# Part 1 - Bi Variate Analysis"
      ]
    },
    {
      "cell_type": "code",
      "metadata": {
        "scrolled": true,
        "colab": {
          "base_uri": "https://localhost:8080/",
          "height": 1000
        },
        "id": "E4X4aDuxWv65",
        "outputId": "733a9767-024a-4c5f-c7a4-630ade27d98a"
      },
      "source": [
        "X_char_merged=pd.concat([Y,char],axis=1,join='inner')\n",
        "\n",
        "for col in (char.columns):\n",
        "    plt.figure()\n",
        "    sns.lineplot(x=col,y=X_char_merged['is_canceled'].mean(),data=X_char_merged, color = 'red')\n",
        "    sns.barplot(x=col, y=\"is_canceled\",data=X_char_merged, estimator=mean )\n",
        "plt.show()"
      ],
      "execution_count": 44,
      "outputs": [
        {
          "output_type": "display_data",
          "data": {
            "image/png": "[encoded data removed]",
            "text/plain": [
              "<Figure size 432x288 with 1 Axes>"
            ]
          },
          "metadata": {
            "needs_background": "light"
          }
        },
        {
          "output_type": "display_data",
          "data": {
            "image/png": "[encoded data removed]",
            "text/plain": [
              "<Figure size 432x288 with 1 Axes>"
            ]
          },
          "metadata": {
            "needs_background": "light"
          }
        },
        {
          "output_type": "display_data",
          "data": {
            "image/png": "[encoded data removed]",
            "text/plain": [
              "<Figure size 432x288 with 1 Axes>"
            ]
          },
          "metadata": {
            "needs_background": "light"
          }
        },
        {
          "output_type": "display_data",
          "data": {
            "image/png": "[encoded data removed]",
            "text/plain": [
              "<Figure size 432x288 with 1 Axes>"
            ]
          },
          "metadata": {
            "needs_background": "light"
          }
        },
        {
          "output_type": "display_data",
          "data": {
            "image/png": "[encoded data removed]",
            "text/plain": [
              "<Figure size 432x288 with 1 Axes>"
            ]
          },
          "metadata": {
            "needs_background": "light"
          }
        },
        {
          "output_type": "display_data",
          "data": {
            "image/png": "[encoded data removed]",
            "text/plain": [
              "<Figure size 432x288 with 1 Axes>"
            ]
          },
          "metadata": {
            "needs_background": "light"
          }
        },
        {
          "output_type": "display_data",
          "data": {
            "image/png": "[encoded data removed]",
            "text/plain": [
              "<Figure size 432x288 with 1 Axes>"
            ]
          },
          "metadata": {
            "needs_background": "light"
          }
        },
        {
          "output_type": "display_data",
          "data": {
            "image/png": "[encoded data removed]",
            "text/plain": [
              "<Figure size 432x288 with 1 Axes>"
            ]
          },
          "metadata": {
            "needs_background": "light"
          }
        },
        {
          "output_type": "display_data",
          "data": {
            "image/png": "[encoded data removed]",
            "text/plain": [
              "<Figure size 432x288 with 1 Axes>"
            ]
          },
          "metadata": {
            "needs_background": "light"
          }
        },
        {
          "output_type": "display_data",
          "data": {
            "image/png": "[encoded data removed]",
            "text/plain": [
              "<Figure size 432x288 with 1 Axes>"
            ]
          },
          "metadata": {
            "needs_background": "light"
          }
        },
        {
          "output_type": "display_data",
          "data": {
            "image/png": "[encoded data removed]",
            "text/plain": [
              "<Figure size 432x288 with 1 Axes>"
            ]
          },
          "metadata": {
            "needs_background": "light"
          }
        },
        {
          "output_type": "display_data",
          "data": {
            "image/png": "[encoded data removed]",
            "text/plain": [
              "<Figure size 432x288 with 1 Axes>"
            ]
          },
          "metadata": {
            "needs_background": "light"
          }
        },
        {
          "output_type": "display_data",
          "data": {
            "image/png": "[encoded data removed]",
            "text/plain": [
              "<Figure size 432x288 with 1 Axes>"
            ]
          },
          "metadata": {
            "needs_background": "light"
          }
        },
        {
          "output_type": "display_data",
          "data": {
            "image/png": "[encoded data removed]",
            "text/plain": [
              "<Figure size 432x288 with 1 Axes>"
            ]
          },
          "metadata": {
            "needs_background": "light"
          }
        },
        {
          "output_type": "display_data",
          "data": {
            "image/png": "[encoded data removed]",
            "text/plain": [
              "<Figure size 432x288 with 1 Axes>"
            ]
          },
          "metadata": {
            "needs_background": "light"
          }
        },
        {
          "output_type": "display_data",
          "data": {
            "image/png": "[encoded data removed]",
            "text/plain": [
              "<Figure size 432x288 with 1 Axes>"
            ]
          },
          "metadata": {
            "needs_background": "light"
          }
        },
        {
          "output_type": "display_data",
          "data": {
            "image/png": "[encoded data removed]",
            "text/plain": [
              "<Figure size 432x288 with 1 Axes>"
            ]
          },
          "metadata": {
            "needs_background": "light"
          }
        },
        {
          "output_type": "display_data",
          "data": {
            "image/png": "[encoded data removed]",
            "text/plain": [
              "<Figure size 432x288 with 1 Axes>"
            ]
          },
          "metadata": {
            "needs_background": "light"
          }
        },
        {
          "output_type": "display_data",
          "data": {
            "image/png": "[encoded data removed]",
            "text/plain": [
              "<Figure size 432x288 with 1 Axes>"
            ]
          },
          "metadata": {
            "needs_background": "light"
          }
        },
        {
          "output_type": "display_data",
          "data": {
            "image/png": "[encoded data removed]",
            "text/plain": [
              "<Figure size 432x288 with 1 Axes>"
            ]
          },
          "metadata": {
            "needs_background": "light"
          }
        },
        {
          "output_type": "display_data",
          "data": {
            "image/png": "[encoded data removed]",
            "text/plain": [
              "<Figure size 432x288 with 1 Axes>"
            ]
          },
          "metadata": {
            "needs_background": "light"
          }
        },
        {
          "output_type": "display_data",
          "data": {
            "image/png": "[encoded data removed]",
            "text/plain": [
              "<Figure size 432x288 with 1 Axes>"
            ]
          },
          "metadata": {
            "needs_background": "light"
          }
        }
      ]
    },
    {
      "cell_type": "code",
      "metadata": {
        "id": "wpSFARN5Wv65"
      },
      "source": [
        "charlist=['arrival_date_month','country','reserved_room_type','assigned_room_type','reservation_status','reservation_status_date','arrival_date_year']\n",
        "char_1=char_1.drop(charlist,axis=1)"
      ],
      "execution_count": 45,
      "outputs": []
    },
    {
      "cell_type": "code",
      "metadata": {
        "colab": {
          "base_uri": "https://localhost:8080/"
        },
        "id": "KNtku6mzWv66",
        "outputId": "1bab6b71-1814-4a30-ad5e-f92272c3df04"
      },
      "source": [
        "# Create dummy features with n-1 levels\n",
        "X_char_dum = pd.get_dummies(char_1, drop_first = True)\n",
        "X_char_dum.shape"
      ],
      "execution_count": 46,
      "outputs": [
        {
          "output_type": "execute_result",
          "data": {
            "text/plain": [
              "(119390, 107)"
            ]
          },
          "metadata": {},
          "execution_count": 46
        }
      ]
    },
    {
      "cell_type": "markdown",
      "metadata": {
        "id": "xTRfkLI9Wv66"
      },
      "source": [
        "# Part 2 - Select K Best"
      ]
    },
    {
      "cell_type": "code",
      "metadata": {
        "scrolled": true,
        "id": "Owm311SOWv66"
      },
      "source": [
        "# Select K Best for Categorical Features\n",
        "selector = SelectKBest(chi2, k=100)\n",
        "selector.fit_transform(X_char_dum, Y)\n",
        "# Get columns to keep and create new dataframe with those only\n",
        "cols = selector.get_support(indices=True)\n",
        "select_features_df_char = X_char_dum.iloc[:,cols]"
      ],
      "execution_count": 47,
      "outputs": []
    },
    {
      "cell_type": "code",
      "metadata": {
        "scrolled": true,
        "colab": {
          "base_uri": "https://localhost:8080/"
        },
        "id": "6UazbRj1Wv66",
        "outputId": "98635625-0534-4fd9-c262-4374c2a50ad8"
      },
      "source": [
        "select_features_df_char.iloc[0]"
      ],
      "execution_count": 48,
      "outputs": [
        {
          "output_type": "execute_result",
          "data": {
            "text/plain": [
              "hotel_Resort Hotel                  1\n",
              "arrival_month_year_April 2017       0\n",
              "arrival_month_year_August 2015      0\n",
              "arrival_month_year_August 2016      0\n",
              "arrival_month_year_December 2015    0\n",
              "                                   ..\n",
              "total_of_special_requests_1         0\n",
              "total_of_special_requests_2         0\n",
              "total_of_special_requests_3         0\n",
              "total_of_special_requests_4         0\n",
              "total_of_special_requests_5         0\n",
              "Name: 0, Length: 100, dtype: uint8"
            ]
          },
          "metadata": {},
          "execution_count": 48
        }
      ]
    },
    {
      "cell_type": "markdown",
      "metadata": {
        "id": "hBF93oOxWv67"
      },
      "source": [
        "# Creating the Master Feature Set for Model Development"
      ]
    },
    {
      "cell_type": "code",
      "metadata": {
        "id": "ybQyGT0PWv67"
      },
      "source": [
        "X_all=pd.concat([select_features_df_char,select_features_df_num],axis=1,join=\"inner\")"
      ],
      "execution_count": 49,
      "outputs": []
    },
    {
      "cell_type": "markdown",
      "metadata": {
        "id": "K7O55maMWv67"
      },
      "source": [
        "# Train Test Split"
      ]
    },
    {
      "cell_type": "code",
      "metadata": {
        "id": "751eBbBYWv67"
      },
      "source": [
        "X_train, X_test, y_train, y_test=train_test_split(X_all, Y, test_size=0.3, random_state=42)"
      ],
      "execution_count": 50,
      "outputs": []
    },
    {
      "cell_type": "code",
      "metadata": {
        "colab": {
          "base_uri": "https://localhost:8080/"
        },
        "id": "8pH1fd4BWv67",
        "outputId": "887bf9c2-f529-4f1e-febf-9bb18676b9bd"
      },
      "source": [
        "print(\"Shape of Training Data\",X_train.shape)\n",
        "print(\"Shape of Testing Data\",X_test.shape)\n",
        "print(\"Response Rate in Training Data\",y_train.mean())\n",
        "print(\"Response Rate in Testing Data\",y_test.mean())"
      ],
      "execution_count": 51,
      "outputs": [
        {
          "output_type": "stream",
          "name": "stdout",
          "text": [
            "Shape of Training Data (83573, 104)\n",
            "Shape of Testing Data (35817, 104)\n",
            "Response Rate in Training Data is_canceled    0.369557\n",
            "dtype: float64\n",
            "Response Rate in Testing Data is_canceled    0.372421\n",
            "dtype: float64\n"
          ]
        }
      ]
    },
    {
      "cell_type": "code",
      "metadata": {
        "id": "U-mOoIhmWv67"
      },
      "source": [
        "# Non Linearity in feature relationships are observed which makes tree methods a good choice\n",
        "# There are few options to consider among tree methods\n",
        "# White Box (Completely Explainable Set of Rules) - Decision Tree\n",
        "# Ensemble Methods - Random Forest (With Bagging)\n",
        "# Ensemble Methods - GBM/XGBoost (Boosting)"
      ],
      "execution_count": 52,
      "outputs": []
    },
    {
      "cell_type": "code",
      "metadata": {
        "id": "yMZt-X64Wv68"
      },
      "source": [
        "# Building a Decision Tree Model\n",
        "dtree=DecisionTreeClassifier(criterion='gini',random_state=0)"
      ],
      "execution_count": 53,
      "outputs": []
    },
    {
      "cell_type": "code",
      "metadata": {
        "scrolled": true,
        "colab": {
          "base_uri": "https://localhost:8080/"
        },
        "id": "rm2fzD8oWv68",
        "outputId": "bfa26d6c-39ea-4dd8-d7d4-0f930503108d"
      },
      "source": [
        "np.random.seed(44)\n",
        "param_dist = {'max_depth': [3, 5, 6, 7], 'min_samples_split': [140,280,420,560,700] }\n",
        "tree_grid = GridSearchCV(dtree, cv = 10, param_grid=param_dist,n_jobs = 3)\n",
        "tree_grid.fit(X_train,y_train) \n",
        "print('Best Parameters using grid search: \\n', tree_grid.best_params_)"
      ],
      "execution_count": 54,
      "outputs": [
        {
          "output_type": "stream",
          "name": "stdout",
          "text": [
            "Best Parameters using grid search: \n",
            " {'max_depth': 7, 'min_samples_split': 140}\n"
          ]
        }
      ]
    },
    {
      "cell_type": "code",
      "metadata": {
        "colab": {
          "base_uri": "https://localhost:8080/"
        },
        "id": "-7P0DyBnWv68",
        "outputId": "8ed41008-6dcc-4304-d4bd-74d5bef224f9"
      },
      "source": [
        "dtree=DecisionTreeClassifier(criterion='gini',random_state=0,max_depth=5,min_samples_split=140)\n",
        "dtree.fit(X_train,y_train)"
      ],
      "execution_count": 55,
      "outputs": [
        {
          "output_type": "execute_result",
          "data": {
            "text/plain": [
              "DecisionTreeClassifier(ccp_alpha=0.0, class_weight=None, criterion='gini',\n",
              "                       max_depth=5, max_features=None, max_leaf_nodes=None,\n",
              "                       min_impurity_decrease=0.0, min_impurity_split=None,\n",
              "                       min_samples_leaf=1, min_samples_split=140,\n",
              "                       min_weight_fraction_leaf=0.0, presort='deprecated',\n",
              "                       random_state=0, splitter='best')"
            ]
          },
          "metadata": {},
          "execution_count": 55
        }
      ]
    },
    {
      "cell_type": "code",
      "metadata": {
        "colab": {
          "base_uri": "https://localhost:8080/"
        },
        "id": "8Iov3z96Wv68",
        "outputId": "e9577fad-8fd4-4e23-a41a-9eac7153d272"
      },
      "source": [
        "# Building a Random Forest Model\n",
        "rf=RandomForestClassifier(criterion='gini',random_state=0,max_depth=5,min_samples_split=140)\n",
        "rf.fit(X_train,y_train)"
      ],
      "execution_count": 56,
      "outputs": [
        {
          "output_type": "execute_result",
          "data": {
            "text/plain": [
              "RandomForestClassifier(bootstrap=True, ccp_alpha=0.0, class_weight=None,\n",
              "                       criterion='gini', max_depth=5, max_features='auto',\n",
              "                       max_leaf_nodes=None, max_samples=None,\n",
              "                       min_impurity_decrease=0.0, min_impurity_split=None,\n",
              "                       min_samples_leaf=1, min_samples_split=140,\n",
              "                       min_weight_fraction_leaf=0.0, n_estimators=100,\n",
              "                       n_jobs=None, oob_score=False, random_state=0, verbose=0,\n",
              "                       warm_start=False)"
            ]
          },
          "metadata": {},
          "execution_count": 56
        }
      ]
    },
    {
      "cell_type": "code",
      "metadata": {
        "colab": {
          "base_uri": "https://localhost:8080/"
        },
        "id": "NBvk68r_Wv69",
        "outputId": "14baa1b6-38d1-4019-f755-d85901f28d55"
      },
      "source": [
        "# Building a Gradient Boosting Model\n",
        "gbm=GradientBoostingClassifier(criterion='mse',random_state=0,max_depth=5,min_samples_split=140)\n",
        "gbm.fit(X_train,y_train)"
      ],
      "execution_count": 57,
      "outputs": [
        {
          "output_type": "execute_result",
          "data": {
            "text/plain": [
              "GradientBoostingClassifier(ccp_alpha=0.0, criterion='mse', init=None,\n",
              "                           learning_rate=0.1, loss='deviance', max_depth=5,\n",
              "                           max_features=None, max_leaf_nodes=None,\n",
              "                           min_impurity_decrease=0.0, min_impurity_split=None,\n",
              "                           min_samples_leaf=1, min_samples_split=140,\n",
              "                           min_weight_fraction_leaf=0.0, n_estimators=100,\n",
              "                           n_iter_no_change=None, presort='deprecated',\n",
              "                           random_state=0, subsample=1.0, tol=0.0001,\n",
              "                           validation_fraction=0.1, verbose=0,\n",
              "                           warm_start=False)"
            ]
          },
          "metadata": {},
          "execution_count": 57
        }
      ]
    },
    {
      "cell_type": "code",
      "metadata": {
        "id": "RMdHTtqhWv69"
      },
      "source": [
        "# Model Evaluation\n",
        "y_pred_tree=dtree.predict(X_test)\n",
        "y_pred_rf=rf.predict(X_test)\n",
        "y_pred_gbm=gbm.predict(X_test)"
      ],
      "execution_count": 58,
      "outputs": []
    },
    {
      "cell_type": "code",
      "metadata": {
        "colab": {
          "base_uri": "https://localhost:8080/"
        },
        "id": "Rua9YlqYWv69",
        "outputId": "bfdb97c9-2e0d-40a4-d3fe-6a1964d4b801"
      },
      "source": [
        "print(\"Accuracy:\",metrics.accuracy_score(y_test, y_pred_tree))\n",
        "print(\"Precision\",metrics.precision_score(y_test,y_pred_tree))\n",
        "print(\"Recall\",metrics.recall_score(y_test,y_pred_tree))\n",
        "print(\"f1_score\",metrics.f1_score(y_test,y_pred_tree))"
      ],
      "execution_count": 59,
      "outputs": [
        {
          "output_type": "stream",
          "name": "stdout",
          "text": [
            "Accuracy: 0.7667308819834157\n",
            "Precision 0.9946407304485907\n",
            "Recall 0.37566534222955245\n",
            "f1_score 0.5453556075529195\n"
          ]
        }
      ]
    },
    {
      "cell_type": "code",
      "metadata": {
        "colab": {
          "base_uri": "https://localhost:8080/",
          "height": 295
        },
        "id": "WWHGrjbIWv6-",
        "outputId": "c5749790-71ca-4526-f851-289b4d783c6b"
      },
      "source": [
        "metrics.plot_confusion_matrix(dtree,X_all,Y, values_format = '.2f')"
      ],
      "execution_count": 60,
      "outputs": [
        {
          "output_type": "execute_result",
          "data": {
            "text/plain": [
              "<sklearn.metrics._plot.confusion_matrix.ConfusionMatrixDisplay at 0x7f8517f78e50>"
            ]
          },
          "metadata": {},
          "execution_count": 60
        },
        {
          "output_type": "display_data",
          "data": {
            "image/png": "[encoded data removed]",
            "text/plain": [
              "<Figure size 432x288 with 2 Axes>"
            ]
          },
          "metadata": {
            "needs_background": "light"
          }
        }
      ]
    },
    {
      "cell_type": "code",
      "metadata": {
        "colab": {
          "base_uri": "https://localhost:8080/"
        },
        "id": "3njT0L6vWv6-",
        "outputId": "1e072c9f-aa2d-4711-f3db-8cc47b986640"
      },
      "source": [
        "print(\"Accuracy:\",metrics.accuracy_score(y_test, y_pred_rf))\n",
        "print(\"Precision\",metrics.precision_score(y_test,y_pred_rf))\n",
        "print(\"Recall\",metrics.recall_score(y_test,y_pred_rf))\n",
        "print(\"f1_score\",metrics.f1_score(y_test,y_pred_rf))"
      ],
      "execution_count": 61,
      "outputs": [
        {
          "output_type": "stream",
          "name": "stdout",
          "text": [
            "Accuracy: 0.7655024150543038\n",
            "Precision 0.9977831519548569\n",
            "Recall 0.3711672539170852\n",
            "f1_score 0.5410633298726846\n"
          ]
        }
      ]
    },
    {
      "cell_type": "code",
      "metadata": {
        "colab": {
          "base_uri": "https://localhost:8080/",
          "height": 295
        },
        "id": "4srxnCDBWv6-",
        "outputId": "28a8d277-6732-4849-c0d1-5a73e3253858"
      },
      "source": [
        "metrics.plot_confusion_matrix(rf,X_all,Y,values_format = '.2f')"
      ],
      "execution_count": 62,
      "outputs": [
        {
          "output_type": "execute_result",
          "data": {
            "text/plain": [
              "<sklearn.metrics._plot.confusion_matrix.ConfusionMatrixDisplay at 0x7f85186081d0>"
            ]
          },
          "metadata": {},
          "execution_count": 62
        },
        {
          "output_type": "display_data",
          "data": {
            "image/png": "[encoded data removed]",
            "text/plain": [
              "<Figure size 432x288 with 2 Axes>"
            ]
          },
          "metadata": {
            "needs_background": "light"
          }
        }
      ]
    },
    {
      "cell_type": "code",
      "metadata": {
        "colab": {
          "base_uri": "https://localhost:8080/"
        },
        "id": "Q1lqC8YfWv6-",
        "outputId": "f38553d0-f303-4e50-def2-fb7b7074ea70"
      },
      "source": [
        "print(\"Accuracy:\",metrics.accuracy_score(y_test, y_pred_gbm))\n",
        "print(\"Precision\",metrics.precision_score(y_test,y_pred_gbm))\n",
        "print(\"Recall\",metrics.recall_score(y_test,y_pred_gbm))\n",
        "print(\"f1_score\",metrics.f1_score(y_test,y_pred_gbm))"
      ],
      "execution_count": 63,
      "outputs": [
        {
          "output_type": "stream",
          "name": "stdout",
          "text": [
            "Accuracy: 0.8287684619035653\n",
            "Precision 0.865638319464177\n",
            "Recall 0.6394782217557538\n",
            "f1_score 0.7355667658345191\n"
          ]
        }
      ]
    },
    {
      "cell_type": "code",
      "metadata": {
        "colab": {
          "base_uri": "https://localhost:8080/",
          "height": 297
        },
        "id": "-6-VxBOyWv6_",
        "outputId": "e9351a16-6fd1-4690-8434-a2826d57759e"
      },
      "source": [
        "metrics.plot_confusion_matrix(gbm,X_all,Y,values_format = '.2f')"
      ],
      "execution_count": 64,
      "outputs": [
        {
          "output_type": "execute_result",
          "data": {
            "text/plain": [
              "<sklearn.metrics._plot.confusion_matrix.ConfusionMatrixDisplay at 0x7f8518655310>"
            ]
          },
          "metadata": {},
          "execution_count": 64
        },
        {
          "output_type": "display_data",
          "data": {
            "image/png": "[encoded data removed]",
            "text/plain": [
              "<Figure size 432x288 with 2 Axes>"
            ]
          },
          "metadata": {
            "needs_background": "light"
          }
        }
      ]
    },
    {
      "cell_type": "markdown",
      "metadata": {
        "id": "quAvOObliAmU"
      },
      "source": [
        "## Lorenz Curve"
      ]
    },
    {
      "cell_type": "code",
      "metadata": {
        "id": "FYNu7QfWWv6_"
      },
      "source": [
        "# Decsion Tree Lorenz Curve"
      ],
      "execution_count": 65,
      "outputs": []
    },
    {
      "cell_type": "code",
      "metadata": {
        "colab": {
          "base_uri": "https://localhost:8080/",
          "height": 375
        },
        "id": "0cIZKhRLWv6_",
        "outputId": "a01d18c5-5e12-4c67-ab99-7c604f3e1a1d"
      },
      "source": [
        "y_pred_prob = gbm.predict_proba(X_all)[:, 1]\n",
        "df['y_pred_P']=pd.DataFrame(y_pred_prob)\n",
        "df['P_Rank_dtree']=pd.qcut(df['y_pred_P'].rank(method='first').values,10,duplicates='drop').codes+1\n",
        "rank_df_actuals=df.groupby('P_Rank_dtree')['is_canceled'].agg(['count','mean'])\n",
        "rank_df_predicted=df.groupby('P_Rank_dtree')['y_pred_P'].agg(['mean'])\n",
        "rank_df_actuals=pd.DataFrame(rank_df_actuals)\n",
        "\n",
        "rank_df_actuals.rename(columns={'mean':'Actutal_event_rate'},inplace=True)\n",
        "rank_df_predicted=pd.DataFrame(rank_df_predicted)\n",
        "rank_df_predicted.rename(columns={'mean':'Predicted_event_rate'},inplace=True)\n",
        "rank_df=pd.concat([rank_df_actuals,rank_df_predicted],axis=1,join=\"inner\")\n",
        "\n",
        "sorted_rank_df=rank_df.sort_values(by='P_Rank_dtree',ascending=False)\n",
        "sorted_rank_df['N_events']=rank_df['count']*rank_df['Actutal_event_rate']\n",
        "sorted_rank_df['cum_events']=sorted_rank_df['N_events'].cumsum()\n",
        "sorted_rank_df['event_cap']=sorted_rank_df['N_events']/max(sorted_rank_df['N_events'].cumsum())\n",
        "sorted_rank_df['cum_event_cap']=sorted_rank_df['event_cap'].cumsum()\n",
        "\n",
        "sorted_rank_df['N_non_events']=sorted_rank_df['count']-sorted_rank_df['N_events']\n",
        "sorted_rank_df['cum_non_events']=sorted_rank_df['N_non_events'].cumsum()\n",
        "sorted_rank_df['non_event_cap']=sorted_rank_df['N_non_events']/max(sorted_rank_df['N_non_events'].cumsum())\n",
        "sorted_rank_df['cum_non_event_cap']=sorted_rank_df['non_event_cap'].cumsum()\n",
        "\n",
        "sorted_rank_df['KS']=round((sorted_rank_df['cum_event_cap']-sorted_rank_df['cum_non_event_cap']),4)\n",
        "\n",
        "sorted_rank_df['random_cap']=sorted_rank_df['count']/max(sorted_rank_df['count'].cumsum())\n",
        "sorted_rank_df['cum_random_cap']=sorted_rank_df['random_cap'].cumsum()\n",
        "sorted_reindexed=sorted_rank_df.reset_index()\n",
        "sorted_reindexed['Decile']=sorted_reindexed.index+1\n",
        "sorted_reindexed['Lift_over_Avg']=sorted_reindexed['Actutal_event_rate']/(max(sorted_reindexed['N_events'].cumsum())/max(sorted_reindexed['count'].cumsum()))\n",
        "sorted_reindexed"
      ],
      "execution_count": 66,
      "outputs": [
        {
          "output_type": "execute_result",
          "data": {
            "text/html": [
              "<div>\n",
              "<style scoped>\n",
              "    .dataframe tbody tr th:only-of-type {\n",
              "        vertical-align: middle;\n",
              "    }\n",
              "\n",
              "    .dataframe tbody tr th {\n",
              "        vertical-align: top;\n",
              "    }\n",
              "\n",
              "    .dataframe thead th {\n",
              "        text-align: right;\n",
              "    }\n",
              "</style>\n",
              "<table border=\"1\" class=\"dataframe\">\n",
              "  <thead>\n",
              "    <tr style=\"text-align: right;\">\n",
              "      <th></th>\n",
              "      <th>P_Rank_dtree</th>\n",
              "      <th>count</th>\n",
              "      <th>Actutal_event_rate</th>\n",
              "      <th>Predicted_event_rate</th>\n",
              "      <th>N_events</th>\n",
              "      <th>cum_events</th>\n",
              "      <th>event_cap</th>\n",
              "      <th>cum_event_cap</th>\n",
              "      <th>N_non_events</th>\n",
              "      <th>cum_non_events</th>\n",
              "      <th>non_event_cap</th>\n",
              "      <th>cum_non_event_cap</th>\n",
              "      <th>KS</th>\n",
              "      <th>random_cap</th>\n",
              "      <th>cum_random_cap</th>\n",
              "      <th>Decile</th>\n",
              "      <th>Lift_over_Avg</th>\n",
              "    </tr>\n",
              "  </thead>\n",
              "  <tbody>\n",
              "    <tr>\n",
              "      <th>0</th>\n",
              "      <td>10</td>\n",
              "      <td>11939</td>\n",
              "      <td>1.000000</td>\n",
              "      <td>0.990687</td>\n",
              "      <td>11939.0</td>\n",
              "      <td>11939.0</td>\n",
              "      <td>0.269967</td>\n",
              "      <td>0.269967</td>\n",
              "      <td>0.0</td>\n",
              "      <td>0.0</td>\n",
              "      <td>0.000000</td>\n",
              "      <td>0.000000</td>\n",
              "      <td>0.2700</td>\n",
              "      <td>0.1</td>\n",
              "      <td>0.1</td>\n",
              "      <td>1</td>\n",
              "      <td>2.699665</td>\n",
              "    </tr>\n",
              "    <tr>\n",
              "      <th>1</th>\n",
              "      <td>9</td>\n",
              "      <td>11939</td>\n",
              "      <td>0.877042</td>\n",
              "      <td>0.827253</td>\n",
              "      <td>10471.0</td>\n",
              "      <td>22410.0</td>\n",
              "      <td>0.236772</td>\n",
              "      <td>0.506738</td>\n",
              "      <td>1468.0</td>\n",
              "      <td>1468.0</td>\n",
              "      <td>0.019530</td>\n",
              "      <td>0.019530</td>\n",
              "      <td>0.4872</td>\n",
              "      <td>0.1</td>\n",
              "      <td>0.2</td>\n",
              "      <td>2</td>\n",
              "      <td>2.367719</td>\n",
              "    </tr>\n",
              "    <tr>\n",
              "      <th>2</th>\n",
              "      <td>8</td>\n",
              "      <td>11939</td>\n",
              "      <td>0.633386</td>\n",
              "      <td>0.571242</td>\n",
              "      <td>7562.0</td>\n",
              "      <td>29972.0</td>\n",
              "      <td>0.170993</td>\n",
              "      <td>0.677732</td>\n",
              "      <td>4377.0</td>\n",
              "      <td>5845.0</td>\n",
              "      <td>0.058231</td>\n",
              "      <td>0.077761</td>\n",
              "      <td>0.6000</td>\n",
              "      <td>0.1</td>\n",
              "      <td>0.3</td>\n",
              "      <td>3</td>\n",
              "      <td>1.709931</td>\n",
              "    </tr>\n",
              "    <tr>\n",
              "      <th>3</th>\n",
              "      <td>7</td>\n",
              "      <td>11939</td>\n",
              "      <td>0.400871</td>\n",
              "      <td>0.393246</td>\n",
              "      <td>4786.0</td>\n",
              "      <td>34758.0</td>\n",
              "      <td>0.108222</td>\n",
              "      <td>0.785953</td>\n",
              "      <td>7153.0</td>\n",
              "      <td>12998.0</td>\n",
              "      <td>0.095163</td>\n",
              "      <td>0.172924</td>\n",
              "      <td>0.6130</td>\n",
              "      <td>0.1</td>\n",
              "      <td>0.4</td>\n",
              "      <td>4</td>\n",
              "      <td>1.082218</td>\n",
              "    </tr>\n",
              "    <tr>\n",
              "      <th>4</th>\n",
              "      <td>6</td>\n",
              "      <td>11939</td>\n",
              "      <td>0.308317</td>\n",
              "      <td>0.304845</td>\n",
              "      <td>3681.0</td>\n",
              "      <td>38439.0</td>\n",
              "      <td>0.083235</td>\n",
              "      <td>0.869189</td>\n",
              "      <td>8258.0</td>\n",
              "      <td>21256.0</td>\n",
              "      <td>0.109864</td>\n",
              "      <td>0.282787</td>\n",
              "      <td>0.5864</td>\n",
              "      <td>0.1</td>\n",
              "      <td>0.5</td>\n",
              "      <td>5</td>\n",
              "      <td>0.832353</td>\n",
              "    </tr>\n",
              "    <tr>\n",
              "      <th>5</th>\n",
              "      <td>5</td>\n",
              "      <td>11939</td>\n",
              "      <td>0.204456</td>\n",
              "      <td>0.231627</td>\n",
              "      <td>2441.0</td>\n",
              "      <td>40880.0</td>\n",
              "      <td>0.055196</td>\n",
              "      <td>0.924385</td>\n",
              "      <td>9498.0</td>\n",
              "      <td>30754.0</td>\n",
              "      <td>0.126360</td>\n",
              "      <td>0.409148</td>\n",
              "      <td>0.5152</td>\n",
              "      <td>0.1</td>\n",
              "      <td>0.6</td>\n",
              "      <td>6</td>\n",
              "      <td>0.551963</td>\n",
              "    </tr>\n",
              "    <tr>\n",
              "      <th>6</th>\n",
              "      <td>4</td>\n",
              "      <td>11939</td>\n",
              "      <td>0.129324</td>\n",
              "      <td>0.163034</td>\n",
              "      <td>1544.0</td>\n",
              "      <td>42424.0</td>\n",
              "      <td>0.034913</td>\n",
              "      <td>0.959298</td>\n",
              "      <td>10395.0</td>\n",
              "      <td>41149.0</td>\n",
              "      <td>0.138294</td>\n",
              "      <td>0.547442</td>\n",
              "      <td>0.4119</td>\n",
              "      <td>0.1</td>\n",
              "      <td>0.7</td>\n",
              "      <td>7</td>\n",
              "      <td>0.349132</td>\n",
              "    </tr>\n",
              "    <tr>\n",
              "      <th>7</th>\n",
              "      <td>3</td>\n",
              "      <td>11939</td>\n",
              "      <td>0.093224</td>\n",
              "      <td>0.116266</td>\n",
              "      <td>1113.0</td>\n",
              "      <td>43537.0</td>\n",
              "      <td>0.025167</td>\n",
              "      <td>0.984465</td>\n",
              "      <td>10826.0</td>\n",
              "      <td>51975.0</td>\n",
              "      <td>0.144028</td>\n",
              "      <td>0.691470</td>\n",
              "      <td>0.2930</td>\n",
              "      <td>0.1</td>\n",
              "      <td>0.8</td>\n",
              "      <td>8</td>\n",
              "      <td>0.251673</td>\n",
              "    </tr>\n",
              "    <tr>\n",
              "      <th>8</th>\n",
              "      <td>2</td>\n",
              "      <td>11939</td>\n",
              "      <td>0.048580</td>\n",
              "      <td>0.076336</td>\n",
              "      <td>580.0</td>\n",
              "      <td>44117.0</td>\n",
              "      <td>0.013115</td>\n",
              "      <td>0.997580</td>\n",
              "      <td>11359.0</td>\n",
              "      <td>63334.0</td>\n",
              "      <td>0.151119</td>\n",
              "      <td>0.842588</td>\n",
              "      <td>0.1550</td>\n",
              "      <td>0.1</td>\n",
              "      <td>0.9</td>\n",
              "      <td>9</td>\n",
              "      <td>0.131151</td>\n",
              "    </tr>\n",
              "    <tr>\n",
              "      <th>9</th>\n",
              "      <td>1</td>\n",
              "      <td>11939</td>\n",
              "      <td>0.008962</td>\n",
              "      <td>0.024757</td>\n",
              "      <td>107.0</td>\n",
              "      <td>44224.0</td>\n",
              "      <td>0.002420</td>\n",
              "      <td>1.000000</td>\n",
              "      <td>11832.0</td>\n",
              "      <td>75166.0</td>\n",
              "      <td>0.157412</td>\n",
              "      <td>1.000000</td>\n",
              "      <td>0.0000</td>\n",
              "      <td>0.1</td>\n",
              "      <td>1.0</td>\n",
              "      <td>10</td>\n",
              "      <td>0.024195</td>\n",
              "    </tr>\n",
              "  </tbody>\n",
              "</table>\n",
              "</div>"
            ],
            "text/plain": [
              "   P_Rank_dtree  count  Actutal_event_rate  Predicted_event_rate  N_events  \\\n",
              "0            10  11939            1.000000              0.990687   11939.0   \n",
              "1             9  11939            0.877042              0.827253   10471.0   \n",
              "2             8  11939            0.633386              0.571242    7562.0   \n",
              "3             7  11939            0.400871              0.393246    4786.0   \n",
              "4             6  11939            0.308317              0.304845    3681.0   \n",
              "5             5  11939            0.204456              0.231627    2441.0   \n",
              "6             4  11939            0.129324              0.163034    1544.0   \n",
              "7             3  11939            0.093224              0.116266    1113.0   \n",
              "8             2  11939            0.048580              0.076336     580.0   \n",
              "9             1  11939            0.008962              0.024757     107.0   \n",
              "\n",
              "   cum_events  event_cap  cum_event_cap  N_non_events  cum_non_events  \\\n",
              "0     11939.0   0.269967       0.269967           0.0             0.0   \n",
              "1     22410.0   0.236772       0.506738        1468.0          1468.0   \n",
              "2     29972.0   0.170993       0.677732        4377.0          5845.0   \n",
              "3     34758.0   0.108222       0.785953        7153.0         12998.0   \n",
              "4     38439.0   0.083235       0.869189        8258.0         21256.0   \n",
              "5     40880.0   0.055196       0.924385        9498.0         30754.0   \n",
              "6     42424.0   0.034913       0.959298       10395.0         41149.0   \n",
              "7     43537.0   0.025167       0.984465       10826.0         51975.0   \n",
              "8     44117.0   0.013115       0.997580       11359.0         63334.0   \n",
              "9     44224.0   0.002420       1.000000       11832.0         75166.0   \n",
              "\n",
              "   non_event_cap  cum_non_event_cap      KS  random_cap  cum_random_cap  \\\n",
              "0       0.000000           0.000000  0.2700         0.1             0.1   \n",
              "1       0.019530           0.019530  0.4872         0.1             0.2   \n",
              "2       0.058231           0.077761  0.6000         0.1             0.3   \n",
              "3       0.095163           0.172924  0.6130         0.1             0.4   \n",
              "4       0.109864           0.282787  0.5864         0.1             0.5   \n",
              "5       0.126360           0.409148  0.5152         0.1             0.6   \n",
              "6       0.138294           0.547442  0.4119         0.1             0.7   \n",
              "7       0.144028           0.691470  0.2930         0.1             0.8   \n",
              "8       0.151119           0.842588  0.1550         0.1             0.9   \n",
              "9       0.157412           1.000000  0.0000         0.1             1.0   \n",
              "\n",
              "   Decile  Lift_over_Avg  \n",
              "0       1       2.699665  \n",
              "1       2       2.367719  \n",
              "2       3       1.709931  \n",
              "3       4       1.082218  \n",
              "4       5       0.832353  \n",
              "5       6       0.551963  \n",
              "6       7       0.349132  \n",
              "7       8       0.251673  \n",
              "8       9       0.131151  \n",
              "9      10       0.024195  "
            ]
          },
          "metadata": {},
          "execution_count": 66
        }
      ]
    },
    {
      "cell_type": "code",
      "metadata": {
        "scrolled": false,
        "colab": {
          "base_uri": "https://localhost:8080/",
          "height": 386
        },
        "id": "K5zIijSAWv7A",
        "outputId": "4a045410-2cde-430e-c2e1-a050c776d167"
      },
      "source": [
        "fig, axes = plt.subplots(1, 3, sharex=True, figsize=(15,5))\n",
        "fig.suptitle('Effectiveness of Deciles based on Model Probabilities')\n",
        "axes[0].set_title('Rank Ordering of Actual Event Rate')\n",
        "axes[1].set_title('Lift over Mean Event Rate')\n",
        "axes[2].set_title('Gains Chart')\n",
        "sns.lineplot(ax=axes[0],  x=\"Decile\", y=\"Actutal_event_rate\", data=sorted_reindexed,color='red')\n",
        "sns.barplot(ax=axes[1],  x=\"Decile\", y=\"Lift_over_Avg\", data=sorted_reindexed,color='green')\n",
        "sns.lineplot(ax=axes[2],  x=\"Decile\", y=\"cum_event_cap\", data=sorted_reindexed,color='blue')\n",
        "sns.lineplot(ax=axes[2],  x=\"Decile\", y=\"cum_random_cap\", data=sorted_reindexed,color='black')"
      ],
      "execution_count": 67,
      "outputs": [
        {
          "output_type": "execute_result",
          "data": {
            "text/plain": [
              "<matplotlib.axes._subplots.AxesSubplot at 0x7f85244ee6d0>"
            ]
          },
          "metadata": {},
          "execution_count": 67
        },
        {
          "output_type": "display_data",
          "data": {
            "image/png": "[encoded data removed]",
            "text/plain": [
              "<Figure size 1080x360 with 3 Axes>"
            ]
          },
          "metadata": {
            "needs_background": "light"
          }
        }
      ]
    },
    {
      "cell_type": "code",
      "metadata": {
        "colab": {
          "base_uri": "https://localhost:8080/"
        },
        "id": "GORXjtRfWv7A",
        "outputId": "e3cf7b60-f9f6-4bd2-ebaa-c607a4ee622e"
      },
      "source": [
        "# Audience\n",
        "df['Predicted_cancel_Rank']=np.where(df['P_Rank_dtree']<8,\"Bottom7\",\"Top3\")\n",
        "df.Predicted_cancel_Rank.value_counts()"
      ],
      "execution_count": 68,
      "outputs": [
        {
          "output_type": "execute_result",
          "data": {
            "text/plain": [
              "Bottom7    83573\n",
              "Top3       35817\n",
              "Name: Predicted_cancel_Rank, dtype: int64"
            ]
          },
          "metadata": {},
          "execution_count": 68
        }
      ]
    },
    {
      "cell_type": "code",
      "metadata": {
        "id": "GTDA-496Wv7B"
      },
      "source": [
        "df_top3=df.loc[df['Predicted_cancel_Rank']=='Top3',:]"
      ],
      "execution_count": 69,
      "outputs": []
    },
    {
      "cell_type": "code",
      "metadata": {
        "colab": {
          "base_uri": "https://localhost:8080/"
        },
        "id": "Ed67d25RWv7B",
        "outputId": "4b256123-57fb-4146-ea94-ade28b5e6889"
      },
      "source": [
        "df_top3.shape"
      ],
      "execution_count": 70,
      "outputs": [
        {
          "output_type": "execute_result",
          "data": {
            "text/plain": [
              "(35817, 36)"
            ]
          },
          "metadata": {},
          "execution_count": 70
        }
      ]
    },
    {
      "cell_type": "code",
      "metadata": {
        "id": "9fpHkMKIWv7B"
      },
      "source": [
        "service_list=['stays_in_weekend_nights','total_of_special_requests','reserved_room_type']"
      ],
      "execution_count": 71,
      "outputs": []
    },
    {
      "cell_type": "code",
      "metadata": {
        "id": "EHDjnk7eWv7B"
      },
      "source": [
        "df_top3_services=df_top3[service_list]"
      ],
      "execution_count": 72,
      "outputs": []
    },
    {
      "cell_type": "code",
      "metadata": {
        "colab": {
          "base_uri": "https://localhost:8080/",
          "height": 805
        },
        "id": "plxAVnZWWv7B",
        "outputId": "3c8eca1f-9cc0-4dbd-f8fe-8ee0da1a52bb"
      },
      "source": [
        "for col in (df_top3_services.columns):\n",
        "    plt.figure()\n",
        "    sns.countplot(x=col,data=df_top3_services)\n",
        "plt.show()"
      ],
      "execution_count": 73,
      "outputs": [
        {
          "output_type": "display_data",
          "data": {
            "image/png": "[encoded data removed]",
            "text/plain": [
              "<Figure size 432x288 with 1 Axes>"
            ]
          },
          "metadata": {
            "needs_background": "light"
          }
        },
        {
          "output_type": "display_data",
          "data": {
            "image/png": "[encoded data removed]",
            "text/plain": [
              "<Figure size 432x288 with 1 Axes>"
            ]
          },
          "metadata": {
            "needs_background": "light"
          }
        },
        {
          "output_type": "display_data",
          "data": {
            "image/png": "[encoded data removed]",
            "text/plain": [
              "<Figure size 432x288 with 1 Axes>"
            ]
          },
          "metadata": {
            "needs_background": "light"
          }
        }
      ]
    },
    {
      "cell_type": "code",
      "metadata": {
        "id": "eaEPpoqNWv7C"
      },
      "source": [
        "df['lead_time_RANK']=pd.qcut(df['lead_time'].rank(method='first').values,10,duplicates='drop').codes+1"
      ],
      "execution_count": 74,
      "outputs": []
    },
    {
      "cell_type": "code",
      "metadata": {
        "scrolled": true,
        "colab": {
          "base_uri": "https://localhost:8080/",
          "height": 385
        },
        "id": "Lj5SKR-4Wv7C",
        "outputId": "ddcf93fe-476a-4a4e-ba4a-95f226ec48f1"
      },
      "source": [
        "df.groupby('lead_time_RANK')['lead_time'].agg(['min','mean','max'])"
      ],
      "execution_count": 75,
      "outputs": [
        {
          "output_type": "execute_result",
          "data": {
            "text/html": [
              "<div>\n",
              "<style scoped>\n",
              "    .dataframe tbody tr th:only-of-type {\n",
              "        vertical-align: middle;\n",
              "    }\n",
              "\n",
              "    .dataframe tbody tr th {\n",
              "        vertical-align: top;\n",
              "    }\n",
              "\n",
              "    .dataframe thead th {\n",
              "        text-align: right;\n",
              "    }\n",
              "</style>\n",
              "<table border=\"1\" class=\"dataframe\">\n",
              "  <thead>\n",
              "    <tr style=\"text-align: right;\">\n",
              "      <th></th>\n",
              "      <th>min</th>\n",
              "      <th>mean</th>\n",
              "      <th>max</th>\n",
              "    </tr>\n",
              "    <tr>\n",
              "      <th>lead_time_RANK</th>\n",
              "      <th></th>\n",
              "      <th></th>\n",
              "      <th></th>\n",
              "    </tr>\n",
              "  </thead>\n",
              "  <tbody>\n",
              "    <tr>\n",
              "      <th>1</th>\n",
              "      <td>0</td>\n",
              "      <td>0.652735</td>\n",
              "      <td>3</td>\n",
              "    </tr>\n",
              "    <tr>\n",
              "      <th>2</th>\n",
              "      <td>3</td>\n",
              "      <td>6.449703</td>\n",
              "      <td>11</td>\n",
              "    </tr>\n",
              "    <tr>\n",
              "      <th>3</th>\n",
              "      <td>11</td>\n",
              "      <td>18.337465</td>\n",
              "      <td>26</td>\n",
              "    </tr>\n",
              "    <tr>\n",
              "      <th>4</th>\n",
              "      <td>26</td>\n",
              "      <td>35.099757</td>\n",
              "      <td>45</td>\n",
              "    </tr>\n",
              "    <tr>\n",
              "      <th>5</th>\n",
              "      <td>45</td>\n",
              "      <td>56.680291</td>\n",
              "      <td>69</td>\n",
              "    </tr>\n",
              "    <tr>\n",
              "      <th>6</th>\n",
              "      <td>69</td>\n",
              "      <td>83.823603</td>\n",
              "      <td>99</td>\n",
              "    </tr>\n",
              "    <tr>\n",
              "      <th>7</th>\n",
              "      <td>99</td>\n",
              "      <td>117.566044</td>\n",
              "      <td>138</td>\n",
              "    </tr>\n",
              "    <tr>\n",
              "      <th>8</th>\n",
              "      <td>138</td>\n",
              "      <td>160.550130</td>\n",
              "      <td>184</td>\n",
              "    </tr>\n",
              "    <tr>\n",
              "      <th>9</th>\n",
              "      <td>184</td>\n",
              "      <td>219.433286</td>\n",
              "      <td>265</td>\n",
              "    </tr>\n",
              "    <tr>\n",
              "      <th>10</th>\n",
              "      <td>265</td>\n",
              "      <td>341.521149</td>\n",
              "      <td>737</td>\n",
              "    </tr>\n",
              "  </tbody>\n",
              "</table>\n",
              "</div>"
            ],
            "text/plain": [
              "                min        mean  max\n",
              "lead_time_RANK                      \n",
              "1                 0    0.652735    3\n",
              "2                 3    6.449703   11\n",
              "3                11   18.337465   26\n",
              "4                26   35.099757   45\n",
              "5                45   56.680291   69\n",
              "6                69   83.823603   99\n",
              "7                99  117.566044  138\n",
              "8               138  160.550130  184\n",
              "9               184  219.433286  265\n",
              "10              265  341.521149  737"
            ]
          },
          "metadata": {},
          "execution_count": 75
        }
      ]
    },
    {
      "cell_type": "code",
      "metadata": {
        "colab": {
          "base_uri": "https://localhost:8080/"
        },
        "id": "pNJO4WrOWv7C",
        "outputId": "40ddfb6a-68b8-440b-e952-c3852df1da5f"
      },
      "source": [
        "df.lead_time.mean()"
      ],
      "execution_count": 76,
      "outputs": [
        {
          "output_type": "execute_result",
          "data": {
            "text/plain": [
              "104.01141636652986"
            ]
          },
          "metadata": {},
          "execution_count": 76
        }
      ]
    },
    {
      "cell_type": "code",
      "metadata": {
        "colab": {
          "base_uri": "https://localhost:8080/"
        },
        "id": "MsxIbZz2Wv7C",
        "outputId": "e6c7a5db-ec7d-43a4-b774-e9175a521c20"
      },
      "source": [
        "df['lead_time_segment']=np.where(df['lead_time_RANK']>=7,\"High Lead Time\",\"Low Lead Time\")\n",
        "df.lead_time_segment.value_counts()"
      ],
      "execution_count": 77,
      "outputs": [
        {
          "output_type": "execute_result",
          "data": {
            "text/plain": [
              "Low Lead Time     71634\n",
              "High Lead Time    47756\n",
              "Name: lead_time_segment, dtype: int64"
            ]
          },
          "metadata": {},
          "execution_count": 77
        }
      ]
    },
    {
      "cell_type": "code",
      "metadata": {
        "id": "kCwA4TzzWv7D"
      },
      "source": [
        "df['adr_RANK']=pd.qcut(df['adr'].rank(method='first').values,10,duplicates='drop').codes+1"
      ],
      "execution_count": 78,
      "outputs": []
    },
    {
      "cell_type": "code",
      "metadata": {
        "scrolled": true,
        "colab": {
          "base_uri": "https://localhost:8080/",
          "height": 385
        },
        "id": "awjxTVB4Wv7D",
        "outputId": "b9b54840-994b-4d64-aeab-18cca8d5d327"
      },
      "source": [
        "df.groupby('adr_RANK')['adr'].agg(['min','mean','max'])"
      ],
      "execution_count": 79,
      "outputs": [
        {
          "output_type": "execute_result",
          "data": {
            "text/html": [
              "<div>\n",
              "<style scoped>\n",
              "    .dataframe tbody tr th:only-of-type {\n",
              "        vertical-align: middle;\n",
              "    }\n",
              "\n",
              "    .dataframe tbody tr th {\n",
              "        vertical-align: top;\n",
              "    }\n",
              "\n",
              "    .dataframe thead th {\n",
              "        text-align: right;\n",
              "    }\n",
              "</style>\n",
              "<table border=\"1\" class=\"dataframe\">\n",
              "  <thead>\n",
              "    <tr style=\"text-align: right;\">\n",
              "      <th></th>\n",
              "      <th>min</th>\n",
              "      <th>mean</th>\n",
              "      <th>max</th>\n",
              "    </tr>\n",
              "    <tr>\n",
              "      <th>adr_RANK</th>\n",
              "      <th></th>\n",
              "      <th></th>\n",
              "      <th></th>\n",
              "    </tr>\n",
              "  </thead>\n",
              "  <tbody>\n",
              "    <tr>\n",
              "      <th>1</th>\n",
              "      <td>-6.38</td>\n",
              "      <td>32.638938</td>\n",
              "      <td>50.00</td>\n",
              "    </tr>\n",
              "    <tr>\n",
              "      <th>2</th>\n",
              "      <td>50.00</td>\n",
              "      <td>59.250104</td>\n",
              "      <td>64.00</td>\n",
              "    </tr>\n",
              "    <tr>\n",
              "      <th>3</th>\n",
              "      <td>64.00</td>\n",
              "      <td>69.332909</td>\n",
              "      <td>75.00</td>\n",
              "    </tr>\n",
              "    <tr>\n",
              "      <th>4</th>\n",
              "      <td>75.00</td>\n",
              "      <td>79.526233</td>\n",
              "      <td>85.00</td>\n",
              "    </tr>\n",
              "    <tr>\n",
              "      <th>5</th>\n",
              "      <td>85.00</td>\n",
              "      <td>89.482808</td>\n",
              "      <td>94.56</td>\n",
              "    </tr>\n",
              "    <tr>\n",
              "      <th>6</th>\n",
              "      <td>94.59</td>\n",
              "      <td>99.285965</td>\n",
              "      <td>105.00</td>\n",
              "    </tr>\n",
              "    <tr>\n",
              "      <th>7</th>\n",
              "      <td>105.00</td>\n",
              "      <td>111.376652</td>\n",
              "      <td>118.15</td>\n",
              "    </tr>\n",
              "    <tr>\n",
              "      <th>8</th>\n",
              "      <td>118.15</td>\n",
              "      <td>125.793015</td>\n",
              "      <td>135.00</td>\n",
              "    </tr>\n",
              "    <tr>\n",
              "      <th>9</th>\n",
              "      <td>135.00</td>\n",
              "      <td>147.667347</td>\n",
              "      <td>164.00</td>\n",
              "    </tr>\n",
              "    <tr>\n",
              "      <th>10</th>\n",
              "      <td>164.00</td>\n",
              "      <td>203.957244</td>\n",
              "      <td>5400.00</td>\n",
              "    </tr>\n",
              "  </tbody>\n",
              "</table>\n",
              "</div>"
            ],
            "text/plain": [
              "             min        mean      max\n",
              "adr_RANK                             \n",
              "1          -6.38   32.638938    50.00\n",
              "2          50.00   59.250104    64.00\n",
              "3          64.00   69.332909    75.00\n",
              "4          75.00   79.526233    85.00\n",
              "5          85.00   89.482808    94.56\n",
              "6          94.59   99.285965   105.00\n",
              "7         105.00  111.376652   118.15\n",
              "8         118.15  125.793015   135.00\n",
              "9         135.00  147.667347   164.00\n",
              "10        164.00  203.957244  5400.00"
            ]
          },
          "metadata": {},
          "execution_count": 79
        }
      ]
    },
    {
      "cell_type": "code",
      "metadata": {
        "colab": {
          "base_uri": "https://localhost:8080/"
        },
        "id": "f8wpeX8_Wv7D",
        "outputId": "007bcb78-3c3d-4ae2-b584-9e6a46d7acef"
      },
      "source": [
        "df.adr.mean()"
      ],
      "execution_count": 80,
      "outputs": [
        {
          "output_type": "execute_result",
          "data": {
            "text/plain": [
              "101.83112153446453"
            ]
          },
          "metadata": {},
          "execution_count": 80
        }
      ]
    },
    {
      "cell_type": "code",
      "metadata": {
        "colab": {
          "base_uri": "https://localhost:8080/"
        },
        "id": "MkfmUDWIWv7F",
        "outputId": "1cd20f60-c09d-457d-8ce8-579807808fe2"
      },
      "source": [
        "df['adr_segment']=np.where(df['adr_RANK']>=7,\"High ADR\",\"Low ADR\")\n",
        "df.adr_segment.value_counts()"
      ],
      "execution_count": 81,
      "outputs": [
        {
          "output_type": "execute_result",
          "data": {
            "text/plain": [
              "Low ADR     71634\n",
              "High ADR    47756\n",
              "Name: adr_segment, dtype: int64"
            ]
          },
          "metadata": {},
          "execution_count": 81
        }
      ]
    },
    {
      "cell_type": "code",
      "metadata": {
        "colab": {
          "base_uri": "https://localhost:8080/",
          "height": 141
        },
        "id": "4BHol03qWv7F",
        "outputId": "67f1eb3a-5326-4592-a4c3-a286f344672d"
      },
      "source": [
        "pd.crosstab(index=df['adr_segment'], columns=df['lead_time_segment'],values=df['adr'],aggfunc='mean')"
      ],
      "execution_count": 82,
      "outputs": [
        {
          "output_type": "execute_result",
          "data": {
            "text/html": [
              "<div>\n",
              "<style scoped>\n",
              "    .dataframe tbody tr th:only-of-type {\n",
              "        vertical-align: middle;\n",
              "    }\n",
              "\n",
              "    .dataframe tbody tr th {\n",
              "        vertical-align: top;\n",
              "    }\n",
              "\n",
              "    .dataframe thead th {\n",
              "        text-align: right;\n",
              "    }\n",
              "</style>\n",
              "<table border=\"1\" class=\"dataframe\">\n",
              "  <thead>\n",
              "    <tr style=\"text-align: right;\">\n",
              "      <th>lead_time_segment</th>\n",
              "      <th>High Lead Time</th>\n",
              "      <th>Low Lead Time</th>\n",
              "    </tr>\n",
              "    <tr>\n",
              "      <th>adr_segment</th>\n",
              "      <th></th>\n",
              "      <th></th>\n",
              "    </tr>\n",
              "  </thead>\n",
              "  <tbody>\n",
              "    <tr>\n",
              "      <th>High ADR</th>\n",
              "      <td>141.203654</td>\n",
              "      <td>151.099370</td>\n",
              "    </tr>\n",
              "    <tr>\n",
              "      <th>Low ADR</th>\n",
              "      <td>74.960245</td>\n",
              "      <td>69.300239</td>\n",
              "    </tr>\n",
              "  </tbody>\n",
              "</table>\n",
              "</div>"
            ],
            "text/plain": [
              "lead_time_segment  High Lead Time  Low Lead Time\n",
              "adr_segment                                     \n",
              "High ADR               141.203654     151.099370\n",
              "Low ADR                 74.960245      69.300239"
            ]
          },
          "metadata": {},
          "execution_count": 82
        }
      ]
    },
    {
      "cell_type": "code",
      "metadata": {
        "scrolled": true,
        "colab": {
          "base_uri": "https://localhost:8080/",
          "height": 141
        },
        "id": "IkCHJSGcWv7G",
        "outputId": "53400039-2950-4796-f970-4e4f850b1f57"
      },
      "source": [
        "pd.crosstab(index=df['adr_segment'], columns=df['lead_time_segment'],values=df['adr'],aggfunc='count')"
      ],
      "execution_count": 83,
      "outputs": [
        {
          "output_type": "execute_result",
          "data": {
            "text/html": [
              "<div>\n",
              "<style scoped>\n",
              "    .dataframe tbody tr th:only-of-type {\n",
              "        vertical-align: middle;\n",
              "    }\n",
              "\n",
              "    .dataframe tbody tr th {\n",
              "        vertical-align: top;\n",
              "    }\n",
              "\n",
              "    .dataframe thead th {\n",
              "        text-align: right;\n",
              "    }\n",
              "</style>\n",
              "<table border=\"1\" class=\"dataframe\">\n",
              "  <thead>\n",
              "    <tr style=\"text-align: right;\">\n",
              "      <th>lead_time_segment</th>\n",
              "      <th>High Lead Time</th>\n",
              "      <th>Low Lead Time</th>\n",
              "    </tr>\n",
              "    <tr>\n",
              "      <th>adr_segment</th>\n",
              "      <th></th>\n",
              "      <th></th>\n",
              "    </tr>\n",
              "  </thead>\n",
              "  <tbody>\n",
              "    <tr>\n",
              "      <th>High ADR</th>\n",
              "      <td>18825</td>\n",
              "      <td>28931</td>\n",
              "    </tr>\n",
              "    <tr>\n",
              "      <th>Low ADR</th>\n",
              "      <td>28931</td>\n",
              "      <td>42703</td>\n",
              "    </tr>\n",
              "  </tbody>\n",
              "</table>\n",
              "</div>"
            ],
            "text/plain": [
              "lead_time_segment  High Lead Time  Low Lead Time\n",
              "adr_segment                                     \n",
              "High ADR                    18825          28931\n",
              "Low ADR                     28931          42703"
            ]
          },
          "metadata": {},
          "execution_count": 83
        }
      ]
    },
    {
      "cell_type": "code",
      "metadata": {
        "colab": {
          "base_uri": "https://localhost:8080/",
          "height": 141
        },
        "id": "u7aQL2BobM1h",
        "outputId": "0029f6fa-3cc1-4bcd-c922-4a74cca06262"
      },
      "source": [
        "pd.crosstab(index=df['adr_segment'], columns=df['lead_time_segment'],values=df['is_canceled'],aggfunc='mean')"
      ],
      "execution_count": 84,
      "outputs": [
        {
          "output_type": "execute_result",
          "data": {
            "text/html": [
              "<div>\n",
              "<style scoped>\n",
              "    .dataframe tbody tr th:only-of-type {\n",
              "        vertical-align: middle;\n",
              "    }\n",
              "\n",
              "    .dataframe tbody tr th {\n",
              "        vertical-align: top;\n",
              "    }\n",
              "\n",
              "    .dataframe thead th {\n",
              "        text-align: right;\n",
              "    }\n",
              "</style>\n",
              "<table border=\"1\" class=\"dataframe\">\n",
              "  <thead>\n",
              "    <tr style=\"text-align: right;\">\n",
              "      <th>lead_time_segment</th>\n",
              "      <th>High Lead Time</th>\n",
              "      <th>Low Lead Time</th>\n",
              "    </tr>\n",
              "    <tr>\n",
              "      <th>adr_segment</th>\n",
              "      <th></th>\n",
              "      <th></th>\n",
              "    </tr>\n",
              "  </thead>\n",
              "  <tbody>\n",
              "    <tr>\n",
              "      <th>High ADR</th>\n",
              "      <td>0.482231</td>\n",
              "      <td>0.320037</td>\n",
              "    </tr>\n",
              "    <tr>\n",
              "      <th>Low ADR</th>\n",
              "      <td>0.528775</td>\n",
              "      <td>0.247969</td>\n",
              "    </tr>\n",
              "  </tbody>\n",
              "</table>\n",
              "</div>"
            ],
            "text/plain": [
              "lead_time_segment  High Lead Time  Low Lead Time\n",
              "adr_segment                                     \n",
              "High ADR                 0.482231       0.320037\n",
              "Low ADR                  0.528775       0.247969"
            ]
          },
          "metadata": {},
          "execution_count": 84
        }
      ]
    },
    {
      "cell_type": "code",
      "metadata": {
        "id": "dYVL35mrbTU-"
      },
      "source": [
        "# Recomendation \n",
        "# 1. Customers who have booked a cheaper room with High Lead time is likely to cancel more, provide upgrade before cancellation.\n",
        "# 2. Hotel can proactively check if they can cater to some special requests\n",
        "# 3. The reserved room type 'A' has a high cancellation rate: check the problem there and try and fix"
      ],
      "execution_count": 85,
      "outputs": []
    }
  ]
}